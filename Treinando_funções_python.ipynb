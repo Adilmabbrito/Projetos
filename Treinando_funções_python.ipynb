{
  "cells": [
    {
      "cell_type": "markdown",
      "metadata": {
        "id": "view-in-github",
        "colab_type": "text"
      },
      "source": [
        "<a href=\"https://colab.research.google.com/github/Adilmabbrito/Projetos/blob/main/Treinando_fun%C3%A7%C3%B5es_python.ipynb\" target=\"_parent\"><img src=\"https://colab.research.google.com/assets/colab-badge.svg\" alt=\"Open In Colab\"/></a>"
      ]
    },
    {
      "cell_type": "code",
      "execution_count": null,
      "metadata": {
        "colab": {
          "base_uri": "https://localhost:8080/"
        },
        "id": "vXeIsNfsSQJT",
        "outputId": "a7b1bf29-8629-41f4-984d-bbd7680f8eb9"
      },
      "outputs": [
        {
          "name": "stdout",
          "output_type": "stream",
          "text": [
            "Looking in indexes: https://pypi.org/simple, https://us-python.pkg.dev/colab-wheels/public/simple/\n",
            "Requirement already satisfied: matplotlib in /usr/local/lib/python3.10/dist-packages (3.7.1)\n",
            "Requirement already satisfied: kiwisolver>=1.0.1 in /usr/local/lib/python3.10/dist-packages (from matplotlib) (1.4.4)\n",
            "Requirement already satisfied: pyparsing>=2.3.1 in /usr/local/lib/python3.10/dist-packages (from matplotlib) (3.0.9)\n",
            "Requirement already satisfied: python-dateutil>=2.7 in /usr/local/lib/python3.10/dist-packages (from matplotlib) (2.8.2)\n",
            "Requirement already satisfied: packaging>=20.0 in /usr/local/lib/python3.10/dist-packages (from matplotlib) (23.1)\n",
            "Requirement already satisfied: fonttools>=4.22.0 in /usr/local/lib/python3.10/dist-packages (from matplotlib) (4.39.3)\n",
            "Requirement already satisfied: pillow>=6.2.0 in /usr/local/lib/python3.10/dist-packages (from matplotlib) (8.4.0)\n",
            "Requirement already satisfied: cycler>=0.10 in /usr/local/lib/python3.10/dist-packages (from matplotlib) (0.11.0)\n",
            "Requirement already satisfied: numpy>=1.20 in /usr/local/lib/python3.10/dist-packages (from matplotlib) (1.22.4)\n",
            "Requirement already satisfied: contourpy>=1.0.1 in /usr/local/lib/python3.10/dist-packages (from matplotlib) (1.0.7)\n",
            "Requirement already satisfied: six>=1.5 in /usr/local/lib/python3.10/dist-packages (from python-dateutil>=2.7->matplotlib) (1.16.0)\n"
          ]
        }
      ],
      "source": [
        "!pip install matplotlib"
      ]
    },
    {
      "cell_type": "code",
      "execution_count": null,
      "metadata": {
        "colab": {
          "base_uri": "https://localhost:8080/"
        },
        "id": "MXe4kpjlSwWg",
        "outputId": "f54b39fc-5970-4307-8d0c-07734ad74931"
      },
      "outputs": [
        {
          "name": "stdout",
          "output_type": "stream",
          "text": [
            "Looking in indexes: https://pypi.org/simple, https://us-python.pkg.dev/colab-wheels/public/simple/\n",
            "Requirement already satisfied: matplotlib==3.6.2 in /usr/local/lib/python3.10/dist-packages (3.6.2)\n",
            "Requirement already satisfied: numpy>=1.19 in /usr/local/lib/python3.10/dist-packages (from matplotlib==3.6.2) (1.22.4)\n",
            "Requirement already satisfied: pillow>=6.2.0 in /usr/local/lib/python3.10/dist-packages (from matplotlib==3.6.2) (8.4.0)\n",
            "Requirement already satisfied: fonttools>=4.22.0 in /usr/local/lib/python3.10/dist-packages (from matplotlib==3.6.2) (4.39.3)\n",
            "Requirement already satisfied: python-dateutil>=2.7 in /usr/local/lib/python3.10/dist-packages (from matplotlib==3.6.2) (2.8.2)\n",
            "Requirement already satisfied: contourpy>=1.0.1 in /usr/local/lib/python3.10/dist-packages (from matplotlib==3.6.2) (1.0.7)\n",
            "Requirement already satisfied: kiwisolver>=1.0.1 in /usr/local/lib/python3.10/dist-packages (from matplotlib==3.6.2) (1.4.4)\n",
            "Requirement already satisfied: cycler>=0.10 in /usr/local/lib/python3.10/dist-packages (from matplotlib==3.6.2) (0.11.0)\n",
            "Requirement already satisfied: packaging>=20.0 in /usr/local/lib/python3.10/dist-packages (from matplotlib==3.6.2) (23.1)\n",
            "Requirement already satisfied: pyparsing>=2.2.1 in /usr/local/lib/python3.10/dist-packages (from matplotlib==3.6.2) (3.0.9)\n",
            "Requirement already satisfied: six>=1.5 in /usr/local/lib/python3.10/dist-packages (from python-dateutil>=2.7->matplotlib==3.6.2) (1.16.0)\n"
          ]
        }
      ],
      "source": [
        "!pip install matplotlib==3.6.2"
      ]
    },
    {
      "cell_type": "code",
      "execution_count": null,
      "metadata": {
        "id": "Qh04lfoSTH9m"
      },
      "outputs": [],
      "source": [
        "import matplotlib"
      ]
    },
    {
      "cell_type": "code",
      "execution_count": null,
      "metadata": {
        "colab": {
          "base_uri": "https://localhost:8080/",
          "height": 36
        },
        "id": "AQhYGD9FTMby",
        "outputId": "3092d978-7750-476e-b888-6e042f1de292"
      },
      "outputs": [
        {
          "data": {
            "application/vnd.google.colaboratory.intrinsic+json": {
              "type": "string"
            },
            "text/plain": [
              "'3.6.2'"
            ]
          },
          "execution_count": 3,
          "metadata": {},
          "output_type": "execute_result"
        }
      ],
      "source": [
        "matplotlib.__version__"
      ]
    },
    {
      "cell_type": "code",
      "execution_count": null,
      "metadata": {
        "id": "JVkJQMO7TUTh"
      },
      "outputs": [],
      "source": [
        "import matplotlib.pyplot as plt\n"
      ]
    },
    {
      "cell_type": "code",
      "execution_count": null,
      "metadata": {
        "id": "hS5qHrvyTluX"
      },
      "outputs": [],
      "source": [
        "plt.show()"
      ]
    },
    {
      "cell_type": "code",
      "execution_count": null,
      "metadata": {
        "colab": {
          "base_uri": "https://localhost:8080/",
          "height": 447
        },
        "id": "yuPTObg7ZjOO",
        "outputId": "67a7252f-9aad-487d-8b9f-1e24ae734321"
      },
      "outputs": [
        {
          "data": {
            "text/plain": [
              "<BarContainer object of 3 artists>"
            ]
          },
          "execution_count": 6,
          "metadata": {},
          "output_type": "execute_result"
        },
        {
          "data": {
            "image/png": "[encoded data removed]",
            "text/plain": [
              "<Figure size 640x480 with 1 Axes>"
            ]
          },
          "metadata": {},
          "output_type": "display_data"
        }
      ],
      "source": [
        "estudantes = [\"joão\", \"Maria\", \"José\"]\n",
        "notas = [8.5, 9, 6.5]\n",
        "plt.bar(x = estudantes, height = notas)"
      ]
    },
    {
      "cell_type": "code",
      "execution_count": null,
      "metadata": {
        "id": "BAtF4uL6aZpN"
      },
      "outputs": [],
      "source": [
        "estudantes2 = [\"joão\", \"Maria\", \"José\", \"Ana\"]"
      ]
    },
    {
      "cell_type": "markdown",
      "metadata": {
        "id": "2Vrgzl4wcXE9"
      },
      "source": [
        "Importando uma função específica de uma bilioteca\n",
        "from nome_biblioteca import metodo"
      ]
    },
    {
      "cell_type": "code",
      "execution_count": null,
      "metadata": {
        "id": "N7xVe3eifKss"
      },
      "outputs": [],
      "source": []
    },
    {
      "cell_type": "code",
      "execution_count": null,
      "metadata": {
        "id": "L1xyEZEEcOJG"
      },
      "outputs": [],
      "source": [
        "from random import choice   #escollha aleatória\n"
      ]
    },
    {
      "cell_type": "code",
      "execution_count": null,
      "metadata": {
        "colab": {
          "base_uri": "https://localhost:8080/",
          "height": 36
        },
        "id": "bge59riNcxxH",
        "outputId": "5d2d3cd8-f77c-42ee-f4a8-79614359d484"
      },
      "outputs": [
        {
          "data": {
            "application/vnd.google.colaboratory.intrinsic+json": {
              "type": "string"
            },
            "text/plain": [
              "'José'"
            ]
          },
          "execution_count": 18,
          "metadata": {},
          "output_type": "execute_result"
        }
      ],
      "source": [
        "estudante = choice(estudantes2)\n",
        "estudante"
      ]
    },
    {
      "cell_type": "code",
      "execution_count": null,
      "metadata": {
        "colab": {
          "base_uri": "https://localhost:8080/"
        },
        "id": "Q8KgXQgcdFr0",
        "outputId": "75805576-2ccc-4011-a61d-ac11e8733e4f"
      },
      "outputs": [
        {
          "data": {
            "text/plain": [
              "[47, 18, 7, 49, 28]"
            ]
          },
          "execution_count": 19,
          "metadata": {},
          "output_type": "execute_result"
        }
      ],
      "source": [
        "from random import randrange, sample\n",
        "\n",
        "lista = []\n",
        "\n",
        "for i in range(0, 20):\n",
        "  lista.append(randrange(100))\n",
        "\n",
        "sample(lista, 5)"
      ]
    },
    {
      "cell_type": "code",
      "execution_count": null,
      "metadata": {
        "id": "RgfcSf7CfMAj"
      },
      "outputs": [],
      "source": [
        "import numpy as np\n"
      ]
    },
    {
      "cell_type": "markdown",
      "metadata": {
        "id": "jNFhKti7pxBy"
      },
      "source": [
        "1- Crie um programa que lê a seguinte lista de números e escolha um número desta aleatoriamente."
      ]
    },
    {
      "cell_type": "code",
      "execution_count": null,
      "metadata": {
        "id": "rLo0q6VGfQUY"
      },
      "outputs": [],
      "source": [
        "lista = [8,12, 54, 23, 4, 1, 90, 87, 105, 77]"
      ]
    },
    {
      "cell_type": "code",
      "execution_count": null,
      "metadata": {
        "colab": {
          "base_uri": "https://localhost:8080/"
        },
        "id": "0r2mLIOBfaD0",
        "outputId": "c58b6149-03ad-493d-bbe2-96523b16bf0c"
      },
      "outputs": [
        {
          "data": {
            "text/plain": [
              "[8, 12, 54, 23, 4, 1, 90, 87, 105, 77]"
            ]
          },
          "execution_count": 29,
          "metadata": {},
          "output_type": "execute_result"
        }
      ],
      "source": [
        "lista"
      ]
    },
    {
      "cell_type": "code",
      "execution_count": null,
      "metadata": {
        "colab": {
          "base_uri": "https://localhost:8080/"
        },
        "id": "pLqeewnsfbFk",
        "outputId": "2daace98-9b30-4435-95df-06a7d2270be4"
      },
      "outputs": [
        {
          "data": {
            "text/plain": [
              "105"
            ]
          },
          "execution_count": 25,
          "metadata": {},
          "output_type": "execute_result"
        }
      ],
      "source": [
        "lista_2 = choice(lista)\n",
        "lista_2"
      ]
    },
    {
      "cell_type": "code",
      "execution_count": null,
      "metadata": {
        "colab": {
          "base_uri": "https://localhost:8080/"
        },
        "id": "1NtvjmGlfn1F",
        "outputId": "33e4ece0-255c-4d1f-cab0-0315a57dec69"
      },
      "outputs": [
        {
          "name": "stdout",
          "output_type": "stream",
          "text": [
            "número escolhido: 23\n"
          ]
        }
      ],
      "source": [
        "from random import choice\n",
        "lista = [8,12, 54, 23, 4, 1, 90, 87, 105, 77]\n",
        "\n",
        "print(f\"número escolhido: {choice(lista)}\")"
      ]
    },
    {
      "cell_type": "markdown",
      "metadata": {
        "id": "kGKjrLlrpbA6"
      },
      "source": [
        "2-Crie um programa que sorteia aleatoriamente um número inteiro menor que 100."
      ]
    },
    {
      "cell_type": "code",
      "execution_count": null,
      "metadata": {
        "colab": {
          "base_uri": "https://localhost:8080/"
        },
        "id": "9rBmQiHOf0Jj",
        "outputId": "c88857d6-4e0b-4b0f-c540-87e230c64534"
      },
      "outputs": [
        {
          "data": {
            "text/plain": [
              "39"
            ]
          },
          "execution_count": 12,
          "metadata": {},
          "output_type": "execute_result"
        }
      ],
      "source": [
        "from random import randrange\n",
        "randrange(100)   #menores que 100"
      ]
    },
    {
      "cell_type": "markdown",
      "metadata": {
        "id": "XEWp4KblpMuK"
      },
      "source": [
        "3- Crie um programa que solicite à pessoa usuária digitar dois números inteiros e calcular a potência do 1º número elevado ao 2º."
      ]
    },
    {
      "cell_type": "code",
      "execution_count": null,
      "metadata": {
        "colab": {
          "base_uri": "https://localhost:8080/"
        },
        "id": "SP4BMWCMlucV",
        "outputId": "b623b196-a0e7-4705-a921-342d6ee73746"
      },
      "outputs": [
        {
          "name": "stdout",
          "output_type": "stream",
          "text": [
            "digite um numero: 5\n",
            "digite outro numero: 4\n",
            "a potencia do 5 elevado ao 4 é igual a: 625\n"
          ]
        }
      ],
      "source": [
        "numero = int(input(\"digite um numero: \")) #uma maneira de fazer\n",
        "numero_2 = int(input(\"digite outro numero: \"))\n",
        "print('a potencia do {} elevado ao {} é igual a: {}'.format(numero, numero_2, (numero)**(numero_2)))"
      ]
    },
    {
      "cell_type": "code",
      "execution_count": null,
      "metadata": {
        "colab": {
          "base_uri": "https://localhost:8080/"
        },
        "id": "HtaO19iXoLZE",
        "outputId": "5bc67c36-a764-4404-c419-e1f948c8ec2b"
      },
      "outputs": [
        {
          "name": "stdout",
          "output_type": "stream",
          "text": [
            "digite a base da potência: 3\n",
            "digite o expoente da potência: 2\n",
            "3 elevadoo a 2 é igual a 9.0\n"
          ]
        }
      ],
      "source": [
        "from math import pow  #outra maneira de fazer\n",
        "base = int(input('digite a base da potência: '))\n",
        "expoente = int(input('digite o expoente da potência: '))\n",
        "print( f\"{base} elevadoo a {expoente} é igual a {pow(base, expoente)}\")"
      ]
    },
    {
      "cell_type": "markdown",
      "metadata": {
        "id": "SGy2no4PEGSJ"
      },
      "source": [
        "Trabalhando com iterações"
      ]
    },
    {
      "cell_type": "code",
      "execution_count": null,
      "metadata": {
        "colab": {
          "base_uri": "https://localhost:8080/"
        },
        "id": "zJ-x60p8DMBq",
        "outputId": "0bd166b7-a71a-4adc-b695-23419a1de791"
      },
      "outputs": [
        {
          "data": {
            "text/plain": [
              "{'1º trimestre': 8.5, '2º trimestre': 9.5, '3º trimestre': 7}"
            ]
          },
          "execution_count": 1,
          "metadata": {},
          "output_type": "execute_result"
        }
      ],
      "source": [
        "notas = {'1º trimestre' : 8.5, '2º trimestre' : 9.5, '3º trimestre' :7}\n",
        "notas\n"
      ]
    },
    {
      "cell_type": "markdown",
      "metadata": {
        "id": "Vi-LWlrqECWa"
      },
      "source": [
        "Calculando a soma"
      ]
    },
    {
      "cell_type": "code",
      "execution_count": null,
      "metadata": {
        "colab": {
          "base_uri": "https://localhost:8080/"
        },
        "id": "vAdjiPOQDja9",
        "outputId": "7368b626-7bb4-4ad2-a208-27d34eed8583"
      },
      "outputs": [
        {
          "data": {
            "text/plain": [
              "25.0"
            ]
          },
          "execution_count": 4,
          "metadata": {},
          "output_type": "execute_result"
        }
      ],
      "source": [
        "soma = 0\n",
        "for nota in notas.values():\n",
        "  soma += nota\n",
        "soma\n"
      ]
    },
    {
      "cell_type": "markdown",
      "metadata": {
        "id": "CggMQNOgELJI"
      },
      "source": [
        "Função sum:"
      ]
    },
    {
      "cell_type": "code",
      "execution_count": null,
      "metadata": {
        "colab": {
          "base_uri": "https://localhost:8080/"
        },
        "id": "3XnhjWjRDzpR",
        "outputId": "0e97060f-19d0-4e1f-be14-9a93f78e9c6a"
      },
      "outputs": [
        {
          "data": {
            "text/plain": [
              "25.0"
            ]
          },
          "execution_count": 5,
          "metadata": {},
          "output_type": "execute_result"
        }
      ],
      "source": [
        "somatorio = sum(notas.values())\n",
        "somatorio"
      ]
    },
    {
      "cell_type": "markdown",
      "metadata": {
        "id": "l55s32wjEcix"
      },
      "source": [
        "Função Len:"
      ]
    },
    {
      "cell_type": "code",
      "execution_count": null,
      "metadata": {
        "id": "Eh69-JIUEWjt"
      },
      "outputs": [],
      "source": [
        "qtd_notas = len(notas)"
      ]
    },
    {
      "cell_type": "code",
      "source": [
        "notas = [8.5, 9.0, 6.0, 10.0]"
      ],
      "metadata": {
        "id": "T4rII9k_0RXF"
      },
      "execution_count": 1,
      "outputs": []
    },
    {
      "cell_type": "markdown",
      "source": [
        "Notas do estudante"
      ],
      "metadata": {
        "id": "VsqnSUje04mi"
      }
    },
    {
      "cell_type": "code",
      "source": [
        "notas = [8.5, 9.0, 6.0, 10.0]\n",
        "def media(lista):\n",
        "  calculo = sum(lista)/len(lista)\n",
        "  print(calculo)\n",
        "\n",
        "media(notas)\n",
        "                           "
      ],
      "metadata": {
        "colab": {
          "base_uri": "https://localhost:8080/"
        },
        "id": "Ab0WRWls07yj",
        "outputId": "1426e5d8-2e38-43cc-823b-6f5546a81b79"
      },
      "execution_count": 14,
      "outputs": [
        {
          "output_type": "stream",
          "name": "stdout",
          "text": [
            "8.375\n"
          ]
        }
      ]
    },
    {
      "cell_type": "code",
      "source": [
        "resultado = media(notas)"
      ],
      "metadata": {
        "colab": {
          "base_uri": "https://localhost:8080/"
        },
        "id": "MABqoLS51kie",
        "outputId": "a7303314-77d3-40a2-a8e4-be864e6d597a"
      },
      "execution_count": 15,
      "outputs": [
        {
          "output_type": "stream",
          "name": "stdout",
          "text": [
            "8.375\n"
          ]
        }
      ]
    },
    {
      "cell_type": "code",
      "source": [
        "notas = [6.0, 7.0, 9.0, 5.0]\n"
      ],
      "metadata": {
        "id": "d7E4vHi023j9"
      },
      "execution_count": 4,
      "outputs": []
    },
    {
      "cell_type": "code",
      "source": [
        "def boletim(lista):\n",
        "  media = sum(lista)/len(lista)\n",
        "  if media >= 6:\n",
        "    situacao = \"aprovado\"\n",
        "  else:\n",
        "    situacao = \"reprovado\"\n",
        "  return (media, situacao) "
      ],
      "metadata": {
        "id": "nSJA3YXQVki6"
      },
      "execution_count": 9,
      "outputs": []
    },
    {
      "cell_type": "code",
      "source": [
        "boletim(notas)"
      ],
      "metadata": {
        "colab": {
          "base_uri": "https://localhost:8080/"
        },
        "id": "_qsPc7JvWEMI",
        "outputId": "20e57b52-6b87-4ae3-ae68-82cbfd64c75d"
      },
      "execution_count": 10,
      "outputs": [
        {
          "output_type": "execute_result",
          "data": {
            "text/plain": [
              "(6.75, 'aprovado')"
            ]
          },
          "metadata": {},
          "execution_count": 10
        }
      ]
    },
    {
      "cell_type": "code",
      "source": [
        "media, situacao = boletim(notas)\n",
        "\n"
      ],
      "metadata": {
        "id": "bRPqmxAqWh_W"
      },
      "execution_count": 11,
      "outputs": []
    },
    {
      "cell_type": "code",
      "source": [
        "media"
      ],
      "metadata": {
        "colab": {
          "base_uri": "https://localhost:8080/"
        },
        "id": "P-2Mj3FOWmYg",
        "outputId": "3e8e9494-c5c4-48a3-91b4-5b8725cec902"
      },
      "execution_count": 12,
      "outputs": [
        {
          "output_type": "execute_result",
          "data": {
            "text/plain": [
              "6.75"
            ]
          },
          "metadata": {},
          "execution_count": 12
        }
      ]
    },
    {
      "cell_type": "code",
      "source": [
        "situacao"
      ],
      "metadata": {
        "colab": {
          "base_uri": "https://localhost:8080/",
          "height": 36
        },
        "id": "jP5P_VDUWomb",
        "outputId": "7c9cb733-9c4c-44a5-a1fd-6f85f319b095"
      },
      "execution_count": 13,
      "outputs": [
        {
          "output_type": "execute_result",
          "data": {
            "text/plain": [
              "'aprovado'"
            ],
            "application/vnd.google.colaboratory.intrinsic+json": {
              "type": "string"
            }
          },
          "metadata": {},
          "execution_count": 13
        }
      ]
    },
    {
      "cell_type": "code",
      "source": [
        "print(f'O estudante atingiu uma média de {media } e foi {situacao}.')"
      ],
      "metadata": {
        "colab": {
          "base_uri": "https://localhost:8080/"
        },
        "id": "xDQ8Jf8dWqJz",
        "outputId": "b28f255b-a0ef-4e59-a441-d82ec82ef917"
      },
      "execution_count": 15,
      "outputs": [
        {
          "output_type": "stream",
          "name": "stdout",
          "text": [
            "O estudante atingiu uma média de 6.75 e foi aprovado.\n"
          ]
        }
      ]
    },
    {
      "cell_type": "code",
      "source": [],
      "metadata": {
        "id": "UXkrf7ngcRP2"
      },
      "execution_count": null,
      "outputs": []
    },
    {
      "cell_type": "markdown",
      "source": [
        "Exercícios da Cruzeiro do sul"
      ],
      "metadata": {
        "id": "cHG1LLagoV3o"
      }
    },
    {
      "cell_type": "code",
      "source": [],
      "metadata": {
        "id": "0lWTZmd_ovut"
      },
      "execution_count": null,
      "outputs": []
    },
    {
      "cell_type": "code",
      "source": [
        "nome = \"joao\"\n",
        "idade = 36\n",
        "rgm = \"123\"\n",
        "print(nome)\n",
        "print(idade)\n",
        "print(rgm)"
      ],
      "metadata": {
        "colab": {
          "base_uri": "https://localhost:8080/"
        },
        "id": "Vt9xuBjyale7",
        "outputId": "e0833ac2-b563-40d0-f6d5-f238a87f2985"
      },
      "execution_count": 20,
      "outputs": [
        {
          "output_type": "stream",
          "name": "stdout",
          "text": [
            "joao\n",
            "36\n",
            "123\n"
          ]
        }
      ]
    },
    {
      "cell_type": "code",
      "source": [
        "a = 5\n",
        "b = 3\n",
        "a = \"joao\"\n",
        "c = \"silva\"\n",
        "print(a)\n",
        "print(b)\n",
        "print(c)"
      ],
      "metadata": {
        "colab": {
          "base_uri": "https://localhost:8080/"
        },
        "id": "qJY1Ul5EbBkv",
        "outputId": "cdf6e842-1753-4898-f144-5de783c02e65"
      },
      "execution_count": 21,
      "outputs": [
        {
          "output_type": "stream",
          "name": "stdout",
          "text": [
            "joao\n",
            "3\n",
            "silva\n"
          ]
        }
      ]
    },
    {
      "cell_type": "code",
      "source": [
        "valororig = 200\n",
        "qtdparcela = 4\n",
        "juros = 0\n",
        "\n",
        "if(qtdparcela == 0 or qtdparcela ==1):\n",
        "  juros = 0\n",
        "else:\n",
        "  if(qtdparcela == 2 or qtdparcela ==3):\n",
        "    juros = 10\n",
        "  elif(qtdparcela > 4):\n",
        "      juros = 20\n",
        "\n",
        "valoratualizado = valororig + (valororig*juros/100)\n",
        "prestmensal = valoratualizado / qtdparcela\n",
        "\n",
        "print(valoratualizado)\n",
        "print(prestmensal)"
      ],
      "metadata": {
        "colab": {
          "base_uri": "https://localhost:8080/"
        },
        "id": "dn6xBjZFcSIk",
        "outputId": "b28616fd-3b11-436f-f779-a0fafdd67357"
      },
      "execution_count": 24,
      "outputs": [
        {
          "output_type": "stream",
          "name": "stdout",
          "text": [
            "200.0\n",
            "50.0\n"
          ]
        }
      ]
    },
    {
      "cell_type": "code",
      "source": [
        "nota1 = 2\n",
        "nota2 = 3\n",
        "media = nota1 + nota2/2\n",
        "print(media)\n"
      ],
      "metadata": {
        "colab": {
          "base_uri": "https://localhost:8080/"
        },
        "id": "ruZKmf_edLDy",
        "outputId": "50ae43bb-d26d-4774-8f26-8b0352e135de"
      },
      "execution_count": 25,
      "outputs": [
        {
          "output_type": "stream",
          "name": "stdout",
          "text": [
            "3.5\n"
          ]
        }
      ]
    },
    {
      "cell_type": "code",
      "source": [
        "maiornota = 0\n",
        "contador = 0\n",
        "nota = 0\n",
        "somanotas= 0\n",
        "\n",
        "while contador < 3:\n",
        "  nota = float(input(\"digite a nota\"))\n",
        "  somanotas = somanotas + nota\n",
        "  contador+=1\n",
        "  if(contador==1):\n",
        "    maiornota = nota\n",
        "  else:\n",
        "    if(nota>maiornota):\n",
        "      maiornota = nota\n",
        "media = somanotas /contador\n",
        "print(\"a media de notas é\", media)\n",
        "print(\"a maior nota doi\", maiornota)"
      ],
      "metadata": {
        "colab": {
          "base_uri": "https://localhost:8080/"
        },
        "id": "iu3FD-mdg_8K",
        "outputId": "3668f31c-53ff-463a-90f6-b23e877bb2e7"
      },
      "execution_count": 28,
      "outputs": [
        {
          "output_type": "stream",
          "name": "stdout",
          "text": [
            "digite a nota8\n",
            "digite a nota6\n",
            "digite a nota4\n",
            "a media de notas é 6.0\n",
            "a maior nota doi 8.0\n"
          ]
        }
      ]
    },
    {
      "cell_type": "code",
      "source": [
        "meudicionario = {\"nome\":\" joao da silva\", \"idade\":25, \"email\":\"joao@com\"}\n",
        "meudicionario.pop(\"email\")\n",
        "print(meudicionario)"
      ],
      "metadata": {
        "colab": {
          "base_uri": "https://localhost:8080/"
        },
        "id": "EC_oCuThhf_w",
        "outputId": "0def41f5-8236-4fa7-ef84-85e22276b276"
      },
      "execution_count": 35,
      "outputs": [
        {
          "output_type": "stream",
          "name": "stdout",
          "text": [
            "{'nome': ' joao da silva', 'idade': 25}\n"
          ]
        }
      ]
    },
    {
      "cell_type": "code",
      "source": [
        "frutas = [\"limao\", \"banana\", \"morango\"]\n",
        "frutas.append(\"abacaxi\")\n",
        "for i in range(2):\n",
        "  frutas.pop()\n",
        "print(frutas)"
      ],
      "metadata": {
        "colab": {
          "base_uri": "https://localhost:8080/"
        },
        "id": "XuhO8U2mioFK",
        "outputId": "04ac728a-78a9-45b4-f947-eb33eb8f6a89"
      },
      "execution_count": 37,
      "outputs": [
        {
          "output_type": "stream",
          "name": "stdout",
          "text": [
            "['limao', 'banana']\n"
          ]
        }
      ]
    },
    {
      "cell_type": "code",
      "source": [
        "animais = [\"cachorro\", \"gato\", \"papagaio\"]\n",
        "animais.append(\"rato\")\n",
        "animais.append(\"jacare\")\n",
        "\n",
        "animais\n",
        "\n"
      ],
      "metadata": {
        "colab": {
          "base_uri": "https://localhost:8080/"
        },
        "id": "Gr6K_TVokzbQ",
        "outputId": "034bcc81-815b-42bc-eba9-fbc94d704846"
      },
      "execution_count": 41,
      "outputs": [
        {
          "output_type": "execute_result",
          "data": {
            "text/plain": [
              "['cachorro', 'gato', 'papagaio', 'rato', 'jacare']"
            ]
          },
          "metadata": {},
          "execution_count": 41
        }
      ]
    },
    {
      "cell_type": "code",
      "source": [
        "animais2 =[]\n",
        "\n",
        "for i in range(3):\n",
        "  animais2.append(animais[i+1])\n",
        "\n",
        "print(animais2)"
      ],
      "metadata": {
        "colab": {
          "base_uri": "https://localhost:8080/"
        },
        "id": "Dop17MBwlGJY",
        "outputId": "e1e44970-8b66-4eef-ef52-d744b32d810b"
      },
      "execution_count": 42,
      "outputs": [
        {
          "output_type": "stream",
          "name": "stdout",
          "text": [
            "['gato', 'papagaio', 'rato']\n"
          ]
        }
      ]
    },
    {
      "cell_type": "markdown",
      "source": [
        "Exercícios da aula\n"
      ],
      "metadata": {
        "id": "1U7FRvE_oxMv"
      }
    },
    {
      "cell_type": "markdown",
      "source": [
        "Comparando a função de qualitativo no formato de função para função anônima"
      ],
      "metadata": {
        "id": "PZl89ZT4pCSo"
      }
    },
    {
      "cell_type": "code",
      "source": [
        "nota = float(input(\"Digite a nota do estudante: \"))\n",
        "\n",
        "def qualitativo(x):\n",
        "  return x + 0.5\n",
        "qualitativo(nota)"
      ],
      "metadata": {
        "colab": {
          "base_uri": "https://localhost:8080/"
        },
        "id": "iQ-cqsHeo0bP",
        "outputId": "a3c05c9c-c742-4e28-fa59-9015a2ffb17b"
      },
      "execution_count": 43,
      "outputs": [
        {
          "name": "stdout",
          "output_type": "stream",
          "text": [
            "Digite a nota do estudamte: 8\n"
          ]
        },
        {
          "output_type": "execute_result",
          "data": {
            "text/plain": [
              "8.5"
            ]
          },
          "metadata": {},
          "execution_count": 43
        }
      ]
    },
    {
      "cell_type": "markdown",
      "source": [
        "Testando a mesma função para uma função lambda"
      ],
      "metadata": {
        "id": "f6o0vUKJpeaQ"
      }
    },
    {
      "cell_type": "code",
      "source": [
        "nota = float(input(\"Digite a nota do estudante: \"))\n",
        "\n",
        "qualitativo = lambda x: x + 0.5\n",
        "qualitativo(nota)"
      ],
      "metadata": {
        "colab": {
          "base_uri": "https://localhost:8080/"
        },
        "id": "8kdFgne0pZ0r",
        "outputId": "12186a34-3424-4c5b-b3ae-dce9a30cb179"
      },
      "execution_count": 46,
      "outputs": [
        {
          "name": "stdout",
          "output_type": "stream",
          "text": [
            "Digite a nota do estudante: 8\n"
          ]
        },
        {
          "output_type": "execute_result",
          "data": {
            "text/plain": [
              "8.5"
            ]
          },
          "metadata": {},
          "execution_count": 46
        }
      ]
    },
    {
      "cell_type": "markdown",
      "source": [
        "Recebendo notas e calculando a média ponderável:"
      ],
      "metadata": {
        "id": "ApCynyr4qYOg"
      }
    },
    {
      "cell_type": "code",
      "source": [
        "n1 = float(input(\"Digite a 1º nota do estudante: \"))\n",
        "n2 = float(input(\"Digite a 2º nota do estudante: \"))\n",
        "n3 = float(input(\"Digite a 3º nota do estudante: \"))\n",
        "\n",
        "\n",
        "media_ponderavel = lambda x, y, z: (x*3 + y*2 + z *5)/10  #calculo de média ponderada\n",
        "media_estudante = media_ponderavel(n1, n2, n3)\n",
        "media_estudante"
      ],
      "metadata": {
        "colab": {
          "base_uri": "https://localhost:8080/"
        },
        "id": "4MVP1nt_pwRw",
        "outputId": "6aa1a574-c21d-4aae-c86c-09358ba3e368"
      },
      "execution_count": 47,
      "outputs": [
        {
          "name": "stdout",
          "output_type": "stream",
          "text": [
            "Digite a 1º nota do estudante: 8\n",
            "Digite a 2º nota do estudante: 7.8\n",
            "Digite a 3º nota do estudante: 9.2\n"
          ]
        },
        {
          "output_type": "execute_result",
          "data": {
            "text/plain": [
              "8.559999999999999"
            ]
          },
          "metadata": {},
          "execution_count": 47
        }
      ]
    },
    {
      "cell_type": "markdown",
      "source": [
        "Escreva um código que leia a lista abaixo"
      ],
      "metadata": {
        "id": "rwnxzz43WLjT"
      }
    },
    {
      "cell_type": "code",
      "source": [
        "lista = [16, 14, 63, 65, 99, 70, 11, 20, 48, 79, 32, 17, 89, 12, 25, 66]"
      ],
      "metadata": {
        "id": "jtkdhrthq-_8"
      },
      "execution_count": 2,
      "outputs": []
    },
    {
      "cell_type": "code",
      "source": [
        "## leitura do tamanho da lista\n",
        "len(lista)"
      ],
      "metadata": {
        "colab": {
          "base_uri": "https://localhost:8080/"
        },
        "id": "z_IwfiiF_jBD",
        "outputId": "4c8ef750-fd75-4d9a-b59c-aaea7713dcf6"
      },
      "execution_count": 3,
      "outputs": [
        {
          "output_type": "execute_result",
          "data": {
            "text/plain": [
              "16"
            ]
          },
          "metadata": {},
          "execution_count": 3
        }
      ]
    },
    {
      "cell_type": "code",
      "source": [
        "##leitura do maior e menor valor\n",
        "\n",
        "max(lista)"
      ],
      "metadata": {
        "colab": {
          "base_uri": "https://localhost:8080/"
        },
        "id": "OOA43qKV_nAc",
        "outputId": "58ff7ac5-869f-45e0-8ee5-5ba878f08678"
      },
      "execution_count": 4,
      "outputs": [
        {
          "output_type": "execute_result",
          "data": {
            "text/plain": [
              "99"
            ]
          },
          "metadata": {},
          "execution_count": 4
        }
      ]
    },
    {
      "cell_type": "code",
      "source": [
        "min(lista)"
      ],
      "metadata": {
        "colab": {
          "base_uri": "https://localhost:8080/"
        },
        "id": "Yrl0BWRF_0j9",
        "outputId": "e997c7b3-b99b-469e-8331-216be70527e4"
      },
      "execution_count": 5,
      "outputs": [
        {
          "output_type": "execute_result",
          "data": {
            "text/plain": [
              "11"
            ]
          },
          "metadata": {},
          "execution_count": 5
        }
      ]
    },
    {
      "cell_type": "code",
      "source": [
        "##a soma dos valores da lista\n",
        "\n",
        "sum(lista)"
      ],
      "metadata": {
        "colab": {
          "base_uri": "https://localhost:8080/"
        },
        "id": "fw2CVG-Y_2GS",
        "outputId": "874eaeb0-37d6-4e22-d780-b7f1226e2f9a"
      },
      "execution_count": 6,
      "outputs": [
        {
          "output_type": "execute_result",
          "data": {
            "text/plain": [
              "726"
            ]
          },
          "metadata": {},
          "execution_count": 6
        }
      ]
    },
    {
      "cell_type": "code",
      "source": [
        "##escreva uma função que gere uma tabuada de um número inteiro de 1 a 10 de acordo com a escollha do usuário\n",
        "\n",
        "\n",
        "numero = int(input(\"Digite um número para a tabuada: \"))\n",
        "\n",
        "for i in range(1, 11):\n",
        "    resultado = numero * i\n",
        "    print(f\"{numero} x {i} = {resultado}\")"
      ],
      "metadata": {
        "colab": {
          "base_uri": "https://localhost:8080/"
        },
        "id": "zlB7E-eBNGNx",
        "outputId": "c4cce47d-596a-4574-a617-96d565d171fa"
      },
      "execution_count": 12,
      "outputs": [
        {
          "output_type": "stream",
          "name": "stdout",
          "text": [
            "Digite um número para a tabuada: 5\n",
            "5 x 1 = 5\n",
            "5 x 2 = 10\n",
            "5 x 3 = 15\n",
            "5 x 4 = 20\n",
            "5 x 5 = 25\n",
            "5 x 6 = 30\n",
            "5 x 7 = 35\n",
            "5 x 8 = 40\n",
            "5 x 9 = 45\n",
            "5 x 10 = 50\n"
          ]
        }
      ]
    },
    {
      "cell_type": "markdown",
      "source": [
        "Treinando a função Range()"
      ],
      "metadata": {
        "id": "o9DC9nQDFi9n"
      }
    },
    {
      "cell_type": "code",
      "source": [
        "for i in range(5):\n",
        "    print(i)\n",
        "    "
      ],
      "metadata": {
        "colab": {
          "base_uri": "https://localhost:8080/"
        },
        "id": "1sIKji4DFeo_",
        "outputId": "1dcccd8d-16c1-45d4-a19e-7e732886a8fa"
      },
      "execution_count": 1,
      "outputs": [
        {
          "output_type": "stream",
          "name": "stdout",
          "text": [
            "0\n",
            "1\n",
            "2\n",
            "3\n",
            "4\n"
          ]
        }
      ]
    },
    {
      "cell_type": "code",
      "source": [
        "for i in range(1,9):\n",
        "    print(i)"
      ],
      "metadata": {
        "colab": {
          "base_uri": "https://localhost:8080/"
        },
        "id": "wZSYDlw1FnB3",
        "outputId": "b994caea-5249-487e-b5a1-6ca78d68c9cb"
      },
      "execution_count": 2,
      "outputs": [
        {
          "output_type": "stream",
          "name": "stdout",
          "text": [
            "1\n",
            "2\n",
            "3\n",
            "4\n",
            "5\n",
            "6\n",
            "7\n",
            "8\n"
          ]
        }
      ]
    },
    {
      "cell_type": "code",
      "source": [
        "numero = int(input(\"digite um número: \"))\n",
        "for i in range (1,30):\n",
        "  resultado = numero/i\n",
        "  print(f\"O número {numero} dividido por {i} é igual a {resultado}\")"
      ],
      "metadata": {
        "colab": {
          "base_uri": "https://localhost:8080/"
        },
        "id": "GefoxIvBJs4m",
        "outputId": "f5adba2e-2f9f-49cb-8961-961c29180baa"
      },
      "execution_count": 6,
      "outputs": [
        {
          "output_type": "stream",
          "name": "stdout",
          "text": [
            "digite um número: 100\n",
            "O número 100 dividido por 1 é igual a 100.0\n",
            "O número 100 dividido por 2 é igual a 50.0\n",
            "O número 100 dividido por 3 é igual a 33.333333333333336\n",
            "O número 100 dividido por 4 é igual a 25.0\n",
            "O número 100 dividido por 5 é igual a 20.0\n",
            "O número 100 dividido por 6 é igual a 16.666666666666668\n",
            "O número 100 dividido por 7 é igual a 14.285714285714286\n",
            "O número 100 dividido por 8 é igual a 12.5\n",
            "O número 100 dividido por 9 é igual a 11.11111111111111\n",
            "O número 100 dividido por 10 é igual a 10.0\n",
            "O número 100 dividido por 11 é igual a 9.090909090909092\n",
            "O número 100 dividido por 12 é igual a 8.333333333333334\n",
            "O número 100 dividido por 13 é igual a 7.6923076923076925\n",
            "O número 100 dividido por 14 é igual a 7.142857142857143\n",
            "O número 100 dividido por 15 é igual a 6.666666666666667\n",
            "O número 100 dividido por 16 é igual a 6.25\n",
            "O número 100 dividido por 17 é igual a 5.882352941176471\n",
            "O número 100 dividido por 18 é igual a 5.555555555555555\n",
            "O número 100 dividido por 19 é igual a 5.2631578947368425\n",
            "O número 100 dividido por 20 é igual a 5.0\n",
            "O número 100 dividido por 21 é igual a 4.761904761904762\n",
            "O número 100 dividido por 22 é igual a 4.545454545454546\n",
            "O número 100 dividido por 23 é igual a 4.3478260869565215\n",
            "O número 100 dividido por 24 é igual a 4.166666666666667\n",
            "O número 100 dividido por 25 é igual a 4.0\n",
            "O número 100 dividido por 26 é igual a 3.8461538461538463\n",
            "O número 100 dividido por 27 é igual a 3.7037037037037037\n",
            "O número 100 dividido por 28 é igual a 3.5714285714285716\n",
            "O número 100 dividido por 29 é igual a 3.4482758620689653\n"
          ]
        }
      ]
    },
    {
      "cell_type": "code",
      "source": [
        "# Exemplo 2: Imprimir os números de 1 a 10 com incremento de 2\n",
        "for i in range(1, 11, 2):\n",
        "    print(i)"
      ],
      "metadata": {
        "colab": {
          "base_uri": "https://localhost:8080/"
        },
        "id": "zJ2KwNQfMiSU",
        "outputId": "4343354a-0906-4b66-8a3e-6d33b0fca44a"
      },
      "execution_count": 7,
      "outputs": [
        {
          "output_type": "stream",
          "name": "stdout",
          "text": [
            "1\n",
            "3\n",
            "5\n",
            "7\n",
            "9\n"
          ]
        }
      ]
    },
    {
      "cell_type": "code",
      "source": [
        "# Exemplo 3: Criar uma lista de números de 1 a 5\n",
        "numeros = list(range(1, 6))\n",
        "print(numeros)"
      ],
      "metadata": {
        "colab": {
          "base_uri": "https://localhost:8080/"
        },
        "id": "0nXiGO1GM8p8",
        "outputId": "4204932c-24a5-49d0-a9b7-0451137bde2b"
      },
      "execution_count": 8,
      "outputs": [
        {
          "output_type": "stream",
          "name": "stdout",
          "text": [
            "[1, 2, 3, 4, 5]\n"
          ]
        }
      ]
    },
    {
      "cell_type": "code",
      "source": [
        "numero = list(range(7))\n",
        "print(numero)"
      ],
      "metadata": {
        "colab": {
          "base_uri": "https://localhost:8080/"
        },
        "id": "kVrOJvtLPrBr",
        "outputId": "bfbc715b-3b40-49e4-efd8-9de66bdc31d4"
      },
      "execution_count": 9,
      "outputs": [
        {
          "output_type": "stream",
          "name": "stdout",
          "text": [
            "[0, 1, 2, 3, 4, 5, 6]\n"
          ]
        }
      ]
    },
    {
      "cell_type": "code",
      "source": [
        "num = list(range(2,20,2))\n",
        "print(num)"
      ],
      "metadata": {
        "colab": {
          "base_uri": "https://localhost:8080/"
        },
        "id": "RnSahefRQHP5",
        "outputId": "deb67ba9-d869-42eb-9110-cd2daee6846e"
      },
      "execution_count": 10,
      "outputs": [
        {
          "output_type": "stream",
          "name": "stdout",
          "text": [
            "[2, 4, 6, 8, 10, 12, 14, 16, 18]\n"
          ]
        }
      ]
    },
    {
      "cell_type": "code",
      "source": [
        "##crie uma função que leia a lista abaixo e retorne uma nova lista com os múltiplos de 3:\n",
        "\n",
        "\n",
        "# Lista gerada\n",
        "lista = [97, 80, 94, 88, 80, 1, 16, 53, 62, 32, 24, 99]\n",
        "\n",
        "# declarando a lista de multiplos de 3 \n",
        "mult_3 = []\n",
        "# função para gerar uma lista dos múltiplos de 3 a partir de uma lista\n",
        "def multiplo_3(lista: list) -> list:\n",
        "  for i in range(len(lista)):\n",
        "    # condição para um número ser múltiplo de 3\n",
        "    if lista[i] % 3 == 0:\n",
        "      mult_3.append(lista[i])\n",
        "  return mult_3\n",
        "\n",
        "# retornando a lista gerada para a variável mult_3\n",
        "mult_3 = multiplo_3(lista)\n",
        "mult_3"
      ],
      "metadata": {
        "colab": {
          "base_uri": "https://localhost:8080/"
        },
        "id": "Tw6UrAYwV6BZ",
        "outputId": "7c4e29c7-376f-46ef-b521-281dbd2e2d1f"
      },
      "execution_count": 26,
      "outputs": [
        {
          "output_type": "execute_result",
          "data": {
            "text/plain": [
              "[24, 99]"
            ]
          },
          "metadata": {},
          "execution_count": 26
        }
      ]
    }
  ],
  "metadata": {
    "colab": {
      "provenance": [],
      "authorship_tag": "ABX9TyNUFbbe0/2WARkLjFpA90v/",
      "include_colab_link": true
    },
    "kernelspec": {
      "display_name": "Python 3",
      "name": "python3"
    },
    "language_info": {
      "name": "python"
    }
  },
  "nbformat": 4,
  "nbformat_minor": 0
}