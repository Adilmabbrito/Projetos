{
  "nbformat": 4,
  "nbformat_minor": 0,
  "metadata": {
    "colab": {
      "provenance": [],
      "authorship_tag": "ABX9TyNPbSKr1cCLCw8zx8680XyU",
      "include_colab_link": true
    },
    "kernelspec": {
      "name": "python3",
      "display_name": "Python 3"
    },
    "language_info": {
      "name": "python"
    }
  },
  "cells": [
    {
      "cell_type": "markdown",
      "metadata": {
        "id": "view-in-github",
        "colab_type": "text"
      },
      "source": [
        "<a href=\"https://colab.research.google.com/github/Adilmabbrito/Projetos/blob/main/Aprendendo_python.ipynb\" target=\"_parent\"><img src=\"https://colab.research.google.com/assets/colab-badge.svg\" alt=\"Open In Colab\"/></a>"
      ]
    },
    {
      "cell_type": "code",
      "execution_count": null,
      "metadata": {
        "id": "GCEO-elFkZVg"
      },
      "outputs": [],
      "source": []
    },
    {
      "cell_type": "code",
      "source": [],
      "metadata": {
        "id": "ECkdsbYLUk_n"
      },
      "execution_count": null,
      "outputs": []
    },
    {
      "cell_type": "markdown",
      "source": [],
      "metadata": {
        "id": "RdXx9hqNruRu"
      }
    },
    {
      "cell_type": "markdown",
      "source": [
        "Faça um programa que leia um ângulo qualquer e mostre na tela o valor do seno, cosseno e tangente desse ângulo;"
      ],
      "metadata": {
        "id": "9Nzz6mChkcU6"
      }
    },
    {
      "cell_type": "code",
      "source": [
        "import math\n",
        "ângulo = float(input('digite o ângulo que você deseja: '))\n",
        "seno = math.sin(math.radians(ângulo))\n",
        "print('O ângulo de {} tem o seno de {:.2f}'.format(ângulo, seno))  ## dentro das chaves colocar :.2f para 2 casas decimais após a vírgula.\n",
        "cosseno = math.cos(math.radians(ângulo))\n",
        "print('O ângulo de {} tem o cosseno de {:.2f}'.format(ângulo, cosseno))\n",
        "tangente = math.tan(math.radians(ângulo))\n",
        "print('O ângulo {} tem a tangente de {:.2f}'.format(ângulo, tangente))"
      ],
      "metadata": {
        "colab": {
          "base_uri": "https://localhost:8080/"
        },
        "id": "nWJxry5bkk6b",
        "outputId": "c38a8f20-9447-40e7-9c16-f881497d1326"
      },
      "execution_count": null,
      "outputs": [
        {
          "output_type": "stream",
          "name": "stdout",
          "text": [
            "digite o ângulo que você deseja: 30\n",
            "O ângulo de 30.0 tem o seno de 0.50\n",
            "O ângulo de 30.0 tem o cosseno de 0.87\n",
            "O ângulo 30.0 tem a tangente de 0.58\n"
          ]
        }
      ]
    },
    {
      "cell_type": "markdown",
      "source": [
        "Um professor quer sortear um dos seus quatro alunos para apagar o quadro. Faça um programa que ajude ele, lendo o nome deles e escrevendo o nome do escolhido."
      ],
      "metadata": {
        "id": "WQbt7a49p6BB"
      }
    },
    {
      "cell_type": "code",
      "source": [
        "import random  ##random faz um sorteio aleatório\n",
        "\n",
        "n1 = str(input(\"Primeiro aluno: \"))\n",
        "n2 = str(input(\"Segundo aluno: \"))\n",
        "n3 = str(input(\"Terceiro aluno: \"))\n",
        "n4 = str(input(\"Quarto aluno: \"))\n",
        "\n",
        "lista = [n1, n2, n3, n4]\n",
        "\n",
        "escolhido = random.choice(lista)\n",
        "print('O aluno escolhido foi {}'.format(escolhido))\n"
      ],
      "metadata": {
        "colab": {
          "base_uri": "https://localhost:8080/"
        },
        "id": "4xTd5LHEqQJQ",
        "outputId": "0533ac38-fa7f-472e-e125-d711ca6cffc7"
      },
      "execution_count": null,
      "outputs": [
        {
          "output_type": "stream",
          "name": "stdout",
          "text": [
            "Primeiro aluno: Ana\n",
            "Segundo aluno: Maria\n",
            "Terceiro aluno: José\n",
            "Quarto aluno: Paulo\n",
            "O aluno escolhido foi José\n"
          ]
        }
      ]
    },
    {
      "cell_type": "markdown",
      "source": [
        "O mesmo professor do desafio anterior quer sortear a ordem de apresentação de trabalhos dos alunos. Faça um programa que leia o nome dos quatro alunos e mostre a ordem sorteada."
      ],
      "metadata": {
        "id": "CGs6Kx60dyDF"
      }
    },
    {
      "cell_type": "code",
      "source": [
        "import random\n",
        "\n",
        "n1 = str(input('Primeiro aluno: '))\n",
        "n2 = str(input('Segundo aluno: '))\n",
        "n3 = str(input('Terceiro aluno: '))\n",
        "n4 = str(input('Quarto aluno: '))\n",
        "\n",
        "lista = [n1, n2, n3, n4]\n",
        "\n",
        "random.shuffle(lista)   ##shuffle serve para embaralhar\n",
        "\n",
        "print('A ordem de apresentação será')\n",
        "print(lista)"
      ],
      "metadata": {
        "colab": {
          "base_uri": "https://localhost:8080/"
        },
        "id": "CpXlme0Bc004",
        "outputId": "d6fec7a3-16c6-492c-d86b-9ec3c6c01af6"
      },
      "execution_count": null,
      "outputs": [
        {
          "output_type": "stream",
          "name": "stdout",
          "text": [
            "Primeiro aluno: ana\n",
            "Segundo aluno: josé\n",
            "Terceiro aluno: maria\n",
            "Quarto aluno: pedro\n",
            "A ordem de apresentação será\n",
            "['pedro', 'ana', 'maria', 'josé']\n"
          ]
        }
      ]
    },
    {
      "cell_type": "markdown",
      "source": [
        "Manipulando cadeias de texto"
      ],
      "metadata": {
        "id": "4H0LYIcofXYj"
      }
    },
    {
      "cell_type": "markdown",
      "source": [
        "**Fatiamento**\n",
        "\n",
        "\n",
        " len(frase)  ##mostra o tamanho da frase ( quantos caracteres)\n",
        "\n",
        " frase.count('o') ## mostra quantas vezes temos a letra 'o'\n",
        "\n",
        " frase.count('o', 0, 13)  ##mostra quantas vezes temos a letra 'o' da posição zero até a posição treze.\n",
        "\n",
        " frase.find('deo')  ##mostra onde começou o 'deo' na frase ( posição)\n",
        "\n",
        " 'Curso' in frase ##vai mostrar Verdadeiro ou Falso.\n",
        "\n",
        "** Transformação**\n",
        "\n",
        "frase.replace('Python', 'android') ## vai substituir a palavra \"python\" por \"android\"\n",
        "\n",
        "frase.upper() ##coloca as letras minúsculas em maiúsculas\n",
        "\n",
        "frase.lower() ##coloca as letras maiúsculas em minúsculas\n",
        "\n",
        "frase.capitalize() ##Joga tudo pra minúsculo e apenas a primeira letra em maiúsculo\n",
        "\n",
        "frase.title() ##coloca apenas as primeiras letras de todas as palavras em maiúculas\n",
        "\n",
        "frase.strip() ## remove espaços vazios no inicio e final da frase(espaços inúteis)\n",
        "\n",
        "frase.rstrip() ##remove apenas os espaços vazios da direita.\n",
        "\n",
        "frase.lstrip() ## remove epenas os espaços vazios da esquerda.\n",
        "\n"
      ],
      "metadata": {
        "id": "3TgqnGoSj3xT"
      }
    },
    {
      "cell_type": "markdown",
      "source": [
        "### **Praticando:**"
      ],
      "metadata": {
        "id": "s2fd7tPItbFX"
      }
    },
    {
      "cell_type": "code",
      "source": [
        "frase = 'Curso em vídeo Python'\n",
        "print(frase[3])"
      ],
      "metadata": {
        "colab": {
          "base_uri": "https://localhost:8080/"
        },
        "id": "nG6KYfRzjfHP",
        "outputId": "dc4634c8-f6cb-413d-b730-8a09b6a62613"
      },
      "execution_count": null,
      "outputs": [
        {
          "output_type": "stream",
          "name": "stdout",
          "text": [
            "s\n"
          ]
        }
      ]
    },
    {
      "cell_type": "code",
      "source": [
        "frase = 'Curso em vídeo Python'\n",
        "print(frase[3:13])"
      ],
      "metadata": {
        "colab": {
          "base_uri": "https://localhost:8080/"
        },
        "id": "Gv_ZhXofsw5S",
        "outputId": "339dd494-68b9-4608-8ff2-1cc2a7f7acc4"
      },
      "execution_count": null,
      "outputs": [
        {
          "output_type": "stream",
          "name": "stdout",
          "text": [
            "so em víde\n"
          ]
        }
      ]
    },
    {
      "cell_type": "code",
      "source": [
        "frase = 'Curso em vídeo Python'\n",
        "print(frase[:13])"
      ],
      "metadata": {
        "colab": {
          "base_uri": "https://localhost:8080/"
        },
        "id": "0NOwp5azs6_F",
        "outputId": "33c1d214-d529-41c3-d343-a725f5061bea"
      },
      "execution_count": null,
      "outputs": [
        {
          "output_type": "stream",
          "name": "stdout",
          "text": [
            "Curso em víde\n"
          ]
        }
      ]
    },
    {
      "cell_type": "code",
      "source": [
        "frase = 'Curso em vídeo Python'\n",
        "print(frase[13:])"
      ],
      "metadata": {
        "colab": {
          "base_uri": "https://localhost:8080/"
        },
        "id": "DcEGZR5_tVha",
        "outputId": "5c91a998-ba0d-4d08-8bfa-8378d0cbf5e3"
      },
      "execution_count": null,
      "outputs": [
        {
          "output_type": "stream",
          "name": "stdout",
          "text": [
            "o Python\n"
          ]
        }
      ]
    },
    {
      "cell_type": "code",
      "source": [
        "frase = 'Curso em vídeo Python'\n",
        "print(frase[1:15:2])  ## do 1 ao 15 pulando de 2 em 2"
      ],
      "metadata": {
        "colab": {
          "base_uri": "https://localhost:8080/"
        },
        "id": "2AJoVdnpthy2",
        "outputId": "d7551fb6-7c7e-458b-b12e-62b58a3becaa"
      },
      "execution_count": null,
      "outputs": [
        {
          "output_type": "stream",
          "name": "stdout",
          "text": [
            "us mvdo\n"
          ]
        }
      ]
    },
    {
      "cell_type": "code",
      "source": [
        "frase = 'Curso em vídeo Python'\n",
        "print(frase.count('o'))  ##conta quantas vezes tem a letra 'o'"
      ],
      "metadata": {
        "colab": {
          "base_uri": "https://localhost:8080/"
        },
        "id": "20ePMStluDuX",
        "outputId": "613d6638-5dc4-43e1-f3ac-23aa63992d7e"
      },
      "execution_count": null,
      "outputs": [
        {
          "output_type": "stream",
          "name": "stdout",
          "text": [
            "3\n"
          ]
        }
      ]
    },
    {
      "cell_type": "code",
      "source": [
        "frase = 'Curso em vídeo Python'\n",
        "print(len(frase))  ##conta quantos caracteres"
      ],
      "metadata": {
        "colab": {
          "base_uri": "https://localhost:8080/"
        },
        "id": "7m69hhioubmA",
        "outputId": "77827451-11ba-408e-d31c-e5fe0f63cf24"
      },
      "execution_count": null,
      "outputs": [
        {
          "output_type": "stream",
          "name": "stdout",
          "text": [
            "21\n"
          ]
        }
      ]
    },
    {
      "cell_type": "code",
      "source": [
        "frase = 'Curso em vídeo Python'\n",
        "print(frase.replace('Python','android'))  ##troca as palavras"
      ],
      "metadata": {
        "colab": {
          "base_uri": "https://localhost:8080/"
        },
        "id": "gjGKQqezupW8",
        "outputId": "80ce45a9-ca4d-44c1-939d-f9af48bf8ddd"
      },
      "execution_count": null,
      "outputs": [
        {
          "output_type": "stream",
          "name": "stdout",
          "text": [
            "Curso em vídeo android\n"
          ]
        }
      ]
    },
    {
      "cell_type": "code",
      "source": [
        "frase = 'Curso em vídeo Python'\n",
        "print('Curso' in frase)"
      ],
      "metadata": {
        "colab": {
          "base_uri": "https://localhost:8080/"
        },
        "id": "JycJrlkjvC_-",
        "outputId": "c4ca62c7-c20f-42bb-96fb-53cd5e2eb373"
      },
      "execution_count": null,
      "outputs": [
        {
          "output_type": "stream",
          "name": "stdout",
          "text": [
            "True\n"
          ]
        }
      ]
    },
    {
      "cell_type": "code",
      "source": [
        "frase = 'Curso em vídeo Python'\n",
        "print(frase.split())   ##divide a frase e forma uma lista"
      ],
      "metadata": {
        "colab": {
          "base_uri": "https://localhost:8080/"
        },
        "id": "ALjNzNokvdJR",
        "outputId": "fefbe336-4925-4232-bce9-6950c81e9f01"
      },
      "execution_count": null,
      "outputs": [
        {
          "output_type": "stream",
          "name": "stdout",
          "text": [
            "['Curso', 'em', 'vídeo', 'Python']\n"
          ]
        }
      ]
    },
    {
      "cell_type": "code",
      "source": [
        "frase = 'Curso em vídeo Python'\n",
        "dividido = frase.split()\n",
        "print(dividido[2][3])   ## divide a frase, pega o segundo elemento e mostra a posição 3"
      ],
      "metadata": {
        "colab": {
          "base_uri": "https://localhost:8080/"
        },
        "id": "zjQW7YwAvytG",
        "outputId": "fa9521bc-08ba-4944-81b9-e8af88ec3f08"
      },
      "execution_count": null,
      "outputs": [
        {
          "output_type": "stream",
          "name": "stdout",
          "text": [
            "e\n"
          ]
        }
      ]
    },
    {
      "cell_type": "markdown",
      "source": [
        "Desafios:\n",
        "\n",
        "1- Crie um programa que leia o nome completo de uma pessoa e mostre:\n",
        "\n",
        "-> O nome com todas as letras maiúsculas\n",
        "\n",
        "-> O nome com todas as letras minúsculas\n",
        "\n",
        "-> Quantas letras ao todo ( sem considerar espaços)\n",
        "\n",
        "-> Quantas letras tem o primeiro nome"
      ],
      "metadata": {
        "id": "S-FkZLJBwUZv"
      }
    },
    {
      "cell_type": "code",
      "source": [
        "nome = str(input('Qual o seu nome? '))\n",
        "print('Analisando seu nome...')\n",
        "print('Seu nome em maiúsculas é {}'.format(nome.upper()))\n",
        "print('Seu nome em minúsculas é {}'.format(nome.lower()))\n",
        "print('Seu nome tem ao todo {} letras'.format(len(nome) - nome.count(' ')))\n",
        "\n",
        "separa = nome.split()\n",
        "print('Seu primeiro nome é {} e ele tem {} letras'.format(separa[0], len(separa[0])))"
      ],
      "metadata": {
        "colab": {
          "base_uri": "https://localhost:8080/"
        },
        "id": "_Zu0tvmWwzk1",
        "outputId": "b8ba5f41-bbd6-4b3a-d6cd-9e1d5e923014"
      },
      "execution_count": null,
      "outputs": [
        {
          "output_type": "stream",
          "name": "stdout",
          "text": [
            "Qual o seu nome? adilma brito\n",
            "Analisando seu nome...\n",
            "Seu nome em maiúsculas é ADILMA BRITO\n",
            "Seu nome em minúsculas é adilma brito\n",
            "Seu nome tem ao todo 11 letras\n",
            "Seu primeiro nome é adilma e ele tem 6 letras\n"
          ]
        }
      ]
    },
    {
      "cell_type": "code",
      "source": [],
      "metadata": {
        "id": "hNm-oVwH3UwD"
      },
      "execution_count": null,
      "outputs": []
    },
    {
      "cell_type": "markdown",
      "source": [
        "Faça um programa que leia um número de 0 a  9999 e nostre na tela cada um dos dígitos separados"
      ],
      "metadata": {
        "id": "SJzFynD5Ylq2"
      }
    },
    {
      "cell_type": "code",
      "source": [
        "num = int(input(\"Digite um número: \"))\n",
        "u = num // 1 % 10\n",
        "d = num // 10 % 10\n",
        "c = num //100 % 10\n",
        "m = num // 1000 % 10\n",
        "print('Analisando o número {}'.format(num))\n",
        "print('Unidade: {}'.format(u))\n",
        "print('Dezena: {}'.format(d))\n",
        "print('Centena: {}'.format(c))\n",
        "print('Milhar: {}'.format(m))"
      ],
      "metadata": {
        "colab": {
          "base_uri": "https://localhost:8080/"
        },
        "id": "jlbnJfTIYtf1",
        "outputId": "f10f9637-79f3-42ef-8fbc-5b4364c5e352"
      },
      "execution_count": null,
      "outputs": [
        {
          "output_type": "stream",
          "name": "stdout",
          "text": [
            "Digite um número: 1254\n",
            "Analisando o número 1254\n",
            "Unidade: 4\n",
            "Dezena: 5\n",
            "Centena: 2\n",
            "Milhar: 1\n"
          ]
        }
      ]
    },
    {
      "cell_type": "markdown",
      "source": [
        "Crie um programa que leia o nome de uma cidade e diga se ela começa ou não com o nome \"SANTO\""
      ],
      "metadata": {
        "id": "H77NPVkAb3jE"
      }
    },
    {
      "cell_type": "code",
      "source": [
        "cid = str(input( 'Em que cidade você nasceu? ')).strip()         #elimina os espaços\n",
        "print(cid [:5].upper() == 'SANTO')                               #deixa tudo maiúscula"
      ],
      "metadata": {
        "colab": {
          "base_uri": "https://localhost:8080/"
        },
        "id": "U2nUjFQJdvBE",
        "outputId": "9c67e562-d650-4ef2-e546-884a8530e7f5"
      },
      "execution_count": null,
      "outputs": [
        {
          "output_type": "stream",
          "name": "stdout",
          "text": [
            "Em que cidade você nasceu? santo anjo\n",
            "True\n"
          ]
        }
      ]
    },
    {
      "cell_type": "markdown",
      "source": [
        "Crie um programa que leia o nome e verifique se há a palavra \"SILVA\"."
      ],
      "metadata": {
        "id": "CU4_ui3hgZ40"
      }
    },
    {
      "cell_type": "code",
      "source": [
        "nome = str(input('Qual é o seu nome? ')).strip()\n",
        "print('Seu nome tem Silva {}'.format('SILVA' in nome.upper()))"
      ],
      "metadata": {
        "colab": {
          "base_uri": "https://localhost:8080/"
        },
        "id": "I2LpxjhVgfYp",
        "outputId": "9886ac75-20d3-4814-872d-f1efba15a616"
      },
      "execution_count": null,
      "outputs": [
        {
          "output_type": "stream",
          "name": "stdout",
          "text": [
            "Qual é o seu nome? maria josé silva\n",
            "Seu nome tem Silva True\n"
          ]
        }
      ]
    },
    {
      "cell_type": "markdown",
      "source": [
        "Faça um programa que leia uma frase pelo teclado e mostre:\n",
        "1- Quantas vezes aparece a letra 'A'\n",
        "2- Em que posição ela aparece a primeira vez\n",
        "3- Em que posição ela aparece a última vez"
      ],
      "metadata": {
        "id": "2zAxZTwKkUwN"
      }
    },
    {
      "cell_type": "code",
      "source": [
        "frase = str(input('Digite uma frase: ')).upper().strip()   #upper deixa tudo maiúscula e strip retira os espaços\n",
        "print('A letra A aparece {} vezes na frase.'.format(frase.count('A')))   # +1 para aparecer a posição que lemos e não a do python\n",
        "print('A primeira letra A apareceu na posição {}'.format(frase.find('A')+1))  #find = inicio\n",
        "print('A última letra A apareceu na posição {}'.format(frase.rfind('A')+1))  #rfind conta a primeira da direita para a esquerda"
      ],
      "metadata": {
        "colab": {
          "base_uri": "https://localhost:8080/"
        },
        "id": "Pil-LK8qkyfB",
        "outputId": "e252ab38-56cc-46fe-e3af-c04f0ee96060"
      },
      "execution_count": null,
      "outputs": [
        {
          "output_type": "stream",
          "name": "stdout",
          "text": [
            "Digite uma frase: Arara Azul\n",
            "A letra A aparece 4 vezes na frase.\n",
            "A primeira letra A apareceu na posição 1\n",
            "A última letra A apareceu na posição 7\n"
          ]
        }
      ]
    },
    {
      "cell_type": "markdown",
      "source": [
        "Faça um programa que leia o nome completo de uma pessoa, mostrando em seguida o primeiro e o último nome separadamente.\n"
      ],
      "metadata": {
        "id": "iXqws7QJm1gg"
      }
    },
    {
      "cell_type": "code",
      "source": [
        "n = str(input('Qual o seu nome completo? ')).upper().strip()\n",
        "nome = n.split()  #fatiar o nome pelos espaços e criar uma lista\n",
        "print('Prazer em te conhecer')\n",
        "print('Seu primeiro nome é {}'.format(nome[0]))\n",
        "print('Seu último nome é {}'.format(nome[len(nome)-1]))"
      ],
      "metadata": {
        "colab": {
          "base_uri": "https://localhost:8080/"
        },
        "id": "0BMAJqYpnOpR",
        "outputId": "cf46d66a-d25e-415c-8e80-ca29dd8a3bfe"
      },
      "execution_count": null,
      "outputs": [
        {
          "output_type": "stream",
          "name": "stdout",
          "text": [
            "Qual o seu nome completo? adilma barbosa da silva brito\n",
            "Prazer em te conhecer\n",
            "Seu primeiro nome é ADILMA\n",
            "Seu último nome é BRITO\n"
          ]
        }
      ]
    },
    {
      "cell_type": "markdown",
      "source": [],
      "metadata": {
        "id": "GiSrx87grwU9"
      }
    },
    {
      "cell_type": "markdown",
      "source": [
        "Escreva um programa que faça o computador \"pensar\" en um número inteiro entre 0 e 5 e peça para o usuário tentar descobrir qual foi o número escolhido pelo computador. O programa deverá escrever na tela se o usuário venceu ou perdeu."
      ],
      "metadata": {
        "id": "lxxXgMKc2E2m"
      }
    },
    {
      "cell_type": "code",
      "source": [
        "from  random import randint\n",
        "from time import sleep\n",
        "computador = randint(0,5)   #faz o computador pensar\n",
        "print('-=-'*20)\n",
        "print('Vou pensar em um número entre  0 e 5. Tente advinhar...')\n",
        "jogador = int(input('Em que número eu pensei? ')) #jogador tenta advinhar\n",
        "print('processando...')\n",
        "sleep(3)\n",
        "if jogador == computador:\n",
        "  print(\"parabéns, você venceu!\")\n",
        "else:\n",
        "  print('GANHEI! Eu pensei no número {} e não no número {}'.format(computador, jogador))"
      ],
      "metadata": {
        "colab": {
          "base_uri": "https://localhost:8080/"
        },
        "id": "N8D-PnYv2lh0",
        "outputId": "b8c0b034-f6a4-4478-87c6-1df6af3523c6"
      },
      "execution_count": null,
      "outputs": [
        {
          "output_type": "stream",
          "name": "stdout",
          "text": [
            "-=--=--=--=--=--=--=--=--=--=--=--=--=--=--=--=--=--=--=--=-\n",
            "Vou pensar em um número entre  0 e 5. Tente advinhar...\n",
            "Em que número eu pensei? 5\n",
            "processando...\n",
            "GANHEI! Eu pensei no número 2 e não no número 5\n"
          ]
        }
      ]
    },
    {
      "cell_type": "markdown",
      "source": [
        "Escreva um programa que leia a velocidade de um carro. Se ele ultrapassar 80km/h, mostre uma mensagem dizendo que ele foi multado. A multa vai custar R$7,00 por cada km acima do limite"
      ],
      "metadata": {
        "id": "R6CZYiYSM3QT"
      }
    },
    {
      "cell_type": "code",
      "source": [
        "velocidade = float(input( 'Qual é a velocidade atual do carro? '))\n",
        "if velocidade >80:\n",
        "  print( 'Multado! Você excedeu a velocidade permitida que é de 80km/h')\n",
        "  multa = (velocidade-80)*7\n",
        "  print('Você deve pagar uma multa de R${:.2f}'.format(multa))\n",
        "print('Tenha um bom dia! Dirija com segurança!')\n"
      ],
      "metadata": {
        "colab": {
          "base_uri": "https://localhost:8080/"
        },
        "id": "nEdmU2EUNP0f",
        "outputId": "f6929805-b71c-4d06-e305-eea595fd5edd"
      },
      "execution_count": null,
      "outputs": [
        {
          "output_type": "stream",
          "name": "stdout",
          "text": [
            "Qual é a velocidade atual do carro? 100\n",
            "Multado! Você excedeu a velocidade permitida que é de 80km/h\n",
            "Você deve pagar uma multa de R$140.00\n",
            "Tenha um bom dia! Dirija com segurança!\n"
          ]
        }
      ]
    },
    {
      "cell_type": "markdown",
      "source": [
        "Crie um programa que leia um número inteiro e mostre na tela se ele é par ou ímpar"
      ],
      "metadata": {
        "id": "b0dfnqxGOzkG"
      }
    },
    {
      "cell_type": "code",
      "source": [
        "Numero = int(input('Digite um número: '))\n",
        "resultado = Numero % 2\n",
        "if resultado == 0 :\n",
        "  print('O número {} é par'.format(Numero))\n",
        "else:\n",
        "  print('O número {} é ímpar.'.format(Numero))"
      ],
      "metadata": {
        "colab": {
          "base_uri": "https://localhost:8080/"
        },
        "id": "6w5vjXGKPKwf",
        "outputId": "be8d30a2-a83a-4251-bb90-b8f4aa7b0660"
      },
      "execution_count": null,
      "outputs": [
        {
          "output_type": "stream",
          "name": "stdout",
          "text": [
            "Digite um número: 254\n",
            "O número 254 é par\n"
          ]
        }
      ]
    },
    {
      "cell_type": "markdown",
      "source": [
        "Desenvolva um programa que pergunte a distância de uma viagem em km. calcule o preço da passagem, cobrando R$0,50 por km para viagens de até 200km e R$0,45 para viagens mais longas.\n"
      ],
      "metadata": {
        "id": "ZbgKveirRJiO"
      }
    },
    {
      "cell_type": "code",
      "source": [
        "Distancia = float(input('Qual a distância da viagem em km? '))\n",
        "resultado = (Distancia) * 1/2\n",
        "resultado2 = (Distancia) * 9/20\n",
        "if Distancia <= 200:\n",
        "  print('Você pagará R${:.2f} pela passagem'.format(resultado))\n",
        "else:\n",
        "  print('Você pagará R${:.2f} pela passagem'.format(resultado2))"
      ],
      "metadata": {
        "colab": {
          "base_uri": "https://localhost:8080/"
        },
        "id": "ftPY4DVIRYg-",
        "outputId": "5834dbcb-9495-4521-e8a4-3ad274bf755a"
      },
      "execution_count": null,
      "outputs": [
        {
          "output_type": "stream",
          "name": "stdout",
          "text": [
            "Qual a distância da viagem em km? 500\n",
            "Você pagará R$225.00 pela passagem\n"
          ]
        }
      ]
    },
    {
      "cell_type": "markdown",
      "source": [
        "Faça um programa que leia três números e mostre qual é o menor e qual é o maior."
      ],
      "metadata": {
        "id": "TqKDueLlWCGC"
      }
    },
    {
      "cell_type": "code",
      "source": [
        "a = int(input('Digite um número: '))\n",
        "b = int(input('Digite o segundo número: '))\n",
        "c = int(input('Digite o terceiro número: '))\n",
        "if a > b and a > c:\n",
        "  print('O maior número digitado é {}.'.format(a))\n",
        "if b > a and b > c:\n",
        "  print('O maior número digitado é {}'.format(b))\n",
        "if c > a and c > b:\n",
        "  print('O maior número digitado é {}'.format(c))\n",
        "if a < b and a < c:\n",
        "  print(' O menor número digitado é {}'.format(a))\n",
        "if b < a and b < c:\n",
        "  print('O menor número digitado é {}'.format(b))\n",
        "if c < a and c <b:\n",
        "  print('O menor número digitado é {}'.format(c))"
      ],
      "metadata": {
        "colab": {
          "base_uri": "https://localhost:8080/"
        },
        "id": "tF5T34B3WIDi",
        "outputId": "f599f801-cfa3-46fc-a356-5ff93a411df1"
      },
      "execution_count": null,
      "outputs": [
        {
          "output_type": "stream",
          "name": "stdout",
          "text": [
            "Digite um número: 5\n",
            "Digite o segundo número: 6\n",
            "Digite o terceiro número: 7\n",
            "O maior número digitado é 7\n",
            " O menor número digitado é 5\n"
          ]
        }
      ]
    },
    {
      "cell_type": "markdown",
      "source": [
        "Escreva um programa que pergunte o salário de m funcionário e calcule o valor do seu aumento.\n",
        "Para salários superiores a R$1.250,00 calcule um aumento de 10%. Para os inferiores ou iguais, o aumento é de 15%"
      ],
      "metadata": {
        "id": "XM5Ru8AIjar9"
      }
    },
    {
      "cell_type": "code",
      "source": [
        "salario = float(input('Digite seu salário: '))\n",
        "aumento1 = salario + (10/100*salario)\n",
        "aumento2 = salario + (15/100*salario)\n",
        "if salario > 1250:\n",
        "  print('Seu salário com aumento é R${:.2f}'.format(aumento1))\n",
        "else:\n",
        "  print('Seu salário com aumento é R${:.2f}'.format(aumento2))\n"
      ],
      "metadata": {
        "colab": {
          "base_uri": "https://localhost:8080/"
        },
        "id": "titfJLosjtzR",
        "outputId": "7dce6384-daaa-40ce-d638-cb1533184429"
      },
      "execution_count": null,
      "outputs": [
        {
          "output_type": "stream",
          "name": "stdout",
          "text": [
            "Digite seu salário: 900\n",
            "Seu salário com aumento é R$1035.00\n"
          ]
        }
      ]
    },
    {
      "cell_type": "markdown",
      "source": [
        "Desenvolva um programa que leia o comprimento de três retas e diga ai usuário se elas podem ou não formar um triângulo."
      ],
      "metadata": {
        "id": "uuy289t1rBAr"
      }
    },
    {
      "cell_type": "code",
      "source": [
        "print('-='*20)\n",
        "print('Analisador de triângulo')\n",
        "print('-='*20)\n",
        "\n",
        "r1 = float(input('Digite o primeiro segmento: '))\n",
        "r2 = float(input('Digite o segundo segmento: '))\n",
        "r3 = float(input('Digite o terceiro segmento: '))\n",
        "\n",
        "if r1 < r2 + r3 and r2< r1 + r3 and r3< r1 + r2:\n",
        "  print('Os segmentos podem formar um triângulo!')\n",
        "else:\n",
        "  print('Os segmentos não podem formar um triângulo!')\n",
        "\n",
        "\n",
        "\n"
      ],
      "metadata": {
        "colab": {
          "base_uri": "https://localhost:8080/"
        },
        "id": "ZKkgoMmorK47",
        "outputId": "5f80ccbf-66ac-403d-f6bc-913078854780"
      },
      "execution_count": null,
      "outputs": [
        {
          "output_type": "stream",
          "name": "stdout",
          "text": [
            "-=-=-=-=-=-=-=-=-=-=-=-=-=-=-=-=-=-=-=-=\n",
            "Analisador de triângulo\n",
            "-=-=-=-=-=-=-=-=-=-=-=-=-=-=-=-=-=-=-=-=\n",
            "Digite o primeiro segmento: 2\n",
            "Digite o segundo segmento: 3\n",
            "Digite o terceiro segmento: 5\n",
            "Os segmentos não podem formar um triângulo!\n"
          ]
        }
      ]
    },
    {
      "cell_type": "markdown",
      "source": [],
      "metadata": {
        "id": "ALDvdXVKtVDj"
      }
    },
    {
      "cell_type": "code",
      "source": [],
      "metadata": {
        "id": "rsXk3LdCy56q"
      },
      "execution_count": null,
      "outputs": []
    },
    {
      "cell_type": "markdown",
      "source": [
        "Escreva um programa para aprovar o empréstimo bancário para a compra de uma casa. Pergunte o valor da casa, o salário do comprador e em quantos anos ele vai pagar. A prestação mensao não poderá exceder 30% do salário ou então o empréstimo será negado.."
      ],
      "metadata": {
        "id": "I7iXhdY31E5k"
      }
    },
    {
      "cell_type": "code",
      "source": [
        "valor = float(input('Qual o valor da casa R$? '))\n",
        "salario = float(input('Qual o seu salário R$? '))\n",
        "tempo = int(input('Em quantos anos pretende pagar? '))\n",
        "\n",
        "n_parcelas = tempo*12\n",
        "prestacao = (valor)/(n_parcelas)\n",
        "\n",
        "\n",
        "if prestacao >(30/100*salario):\n",
        "  print('Empréstimo negado!')\n",
        "else:\n",
        "  print('Parabéns pela compra da casa nova, sua parcela ficará de R${:.2f}'. format(prestacao))\n",
        "\n",
        "\n",
        "\n"
      ],
      "metadata": {
        "colab": {
          "base_uri": "https://localhost:8080/"
        },
        "id": "EqnZb842y_4B",
        "outputId": "46e3ce99-4d47-45ca-8cd0-67584c907efc"
      },
      "execution_count": null,
      "outputs": [
        {
          "output_type": "stream",
          "name": "stdout",
          "text": [
            "Qual o valor da casa R$? 80000\n",
            "Qual o seu salário R$? 10000\n",
            "Em quantos anos pretende pagar? 10\n",
            "Parabéns pela compra da casa nova, sua parcela ficará de R$666.67\n"
          ]
        }
      ]
    },
    {
      "cell_type": "markdown",
      "source": [
        "Fala um programa que leia o ano de nascimento de um jovem e informa de acordo com sua idade, se ele ainda vai se alistar ao serviço militar, se é a hora de se alistar ou se já passou o tenpo do alistamento. Seu programa também deverá mostrar o tempo que falta ou que passou do prazo."
      ],
      "metadata": {
        "id": "v88P8u7H-afI"
      }
    },
    {
      "cell_type": "code",
      "source": [
        "ano_de_nascimento = int(input('Digite o ano do seu nascimento: '))\n",
        "faltam = (ano_de_nascimento - 2005)\n",
        "passaram = (2005 - ano_de_nascimento)\n",
        "\n",
        "if ano_de_nascimento > 2005:\n",
        "  print('Ainda não chegou a hora de se alistar! Faltam {} anos.'.format(faltam))\n",
        "elif ano_de_nascimento == 2005:\n",
        "  print('Está na época de alistar!')\n",
        "else:\n",
        "  print('Já passou {} anos da hora de se alistar!'. format(passaram))\n"
      ],
      "metadata": {
        "colab": {
          "base_uri": "https://localhost:8080/"
        },
        "id": "5-DH_4NJBEZ1",
        "outputId": "adc4dbd7-9391-42ad-b8de-783c0f876cce"
      },
      "execution_count": null,
      "outputs": [
        {
          "output_type": "stream",
          "name": "stdout",
          "text": [
            "Digite o ano do seu nascimento: 2000\n",
            "Já passou 5 anos da hora de se alistar!\n"
          ]
        }
      ]
    },
    {
      "cell_type": "markdown",
      "source": [
        "Elabore um programa que calcule o valor a ser pago por um produto, considerando o seu preço normal e condição de pagamento:\n",
        "- à vista dinheiro/cheque: 10% de desconto\n",
        "- à vista no cartão: 5% de desconto\n",
        "- em até 2x no cartão: preço normal\n",
        "- 3 vezes ou mais: 20% de juros"
      ],
      "metadata": {
        "id": "75JVgtIKGp-t"
      }
    },
    {
      "cell_type": "code",
      "source": [
        "\n",
        "print('{:^40}'.format('LOJAS ABC'))\n",
        "valor = float(input('Qual o valor do produto R$: '))\n",
        "print('''As formas de pagamento são\n",
        "[1] À vista dinheiro ou cheque\n",
        "[2] À vista no cartão\n",
        "[3] Até 2x no cartão\n",
        "[4] 3x ou mais no cartão''')\n",
        "forma_de_pagamento = int(input('qual será a forma de pagamento?'))\n",
        "\n",
        "if forma_de_pagamento == 1:\n",
        "  print('O valor total da compra à vista dinheiro ou cartão é {}'.format(valor - 10/100*valor))\n",
        "elif forma_de_pagamento == 2:\n",
        "  print( ' O valor total da compra à vista no cartão é {}'.format(valor - 10/100*valor))\n",
        "elif forma_de_pagamento == 3:\n",
        "  print('O valor total da compra em até 2x no cartão é {}'.format(valor))\n",
        "else:\n",
        "  print('O valor total da compra em 3x ou mais no cartão é{}'.format(valor + 20/100*valor))\n"
      ],
      "metadata": {
        "colab": {
          "base_uri": "https://localhost:8080/"
        },
        "id": "oFn0jP4FHrYp",
        "outputId": "29f4c800-1e60-4670-a3c1-d0b121e65d5e"
      },
      "execution_count": null,
      "outputs": [
        {
          "output_type": "stream",
          "name": "stdout",
          "text": [
            "               LOJAS ABC                \n",
            "Qual o valor do produto R$: 500\n",
            "As formas de pagamento são \n",
            "[1] À vista dinheiro ou cheque \n",
            "[2] À vista no cartão\n",
            "[3] Até 2x no cartão\n",
            "[4] 3x ou mais no cartão\n",
            "qual será a forma de pagamento?3\n",
            "O valor da compra em até 2x no cartão é 500.0\n"
          ]
        }
      ]
    },
    {
      "cell_type": "markdown",
      "source": [
        "Crie um programa que faça o computador jogar Jokenpô com você."
      ],
      "metadata": {
        "id": "V0qRWEbQAH-W"
      }
    },
    {
      "cell_type": "code",
      "source": [
        "from random import randint\n",
        "itens = ('pedra', 'papel', 'tesoura')\n",
        "computador = randint(0,2)\n",
        "print('''Suas opções:\n",
        "[0] pedra\n",
        "[1] papel\n",
        "[2]tesoura''')\n",
        "jogador = int(input('qual sua jogada?'))\n",
        "print('-='*11)\n",
        "print('computador jogou {}'.format(itens[computador]))\n",
        "print('jogador jogou {}'.format(itens[jogador]))\n",
        "print('-='*11)\n",
        "\n",
        "if computador == 0:\n",
        "  if jogador == 0:\n",
        "    print('empate')\n",
        "\n",
        "  elif jogador == 1:\n",
        "    print('jogador vence')\n",
        "\n",
        "  elif jogador ==2:\n",
        "    print('computador vence')\n",
        "\n",
        "  else:\n",
        "    print('jogada inválida')\n",
        "\n",
        "\n",
        "elif computador == 1:\n",
        "  if jogador == 0:\n",
        "    print('computador vence')\n",
        "\n",
        "  elif jogador == 1:\n",
        "    print('empate')\n",
        "\n",
        "  elif jogador ==2:\n",
        "    print('jogador vence')\n",
        "\n",
        "  else:\n",
        "    print('jogada inválida')\n",
        "\n",
        "elif computador == 2:\n",
        "\n",
        "  if jogador == 0:\n",
        "    print('jogador vence')\n",
        "\n",
        "  elif jogador == 1:\n",
        "    print('computador vence')\n",
        "\n",
        "  elif jogador ==2:\n",
        "    print('empate')\n",
        "\n",
        "  else:\n",
        "    print('jogada inválida')\n",
        "\n",
        "\n"
      ],
      "metadata": {
        "colab": {
          "base_uri": "https://localhost:8080/"
        },
        "id": "54y54dBbDtEg",
        "outputId": "a3078af3-c692-460f-b1dd-28f780f1cf52"
      },
      "execution_count": null,
      "outputs": [
        {
          "output_type": "stream",
          "name": "stdout",
          "text": [
            "Suas opções:\n",
            "[0] pedra\n",
            "[1] papel\n",
            "[2]tesoura\n",
            "qual sua jogada?2\n",
            "-=-=-=-=-=-=-=-=-=-=-=\n",
            "computador jogou tesoura\n",
            "jogador jogou tesoura\n",
            "-=-=-=-=-=-=-=-=-=-=-=\n",
            "empate\n"
          ]
        }
      ]
    },
    {
      "cell_type": "markdown",
      "source": [],
      "metadata": {
        "id": "R2BKSbtI0MPF"
      }
    },
    {
      "cell_type": "markdown",
      "source": [
        "**LAÇOS DE REPETIÇÃO**\n",
        "\n",
        "\n",
        "\n",
        "\n"
      ],
      "metadata": {
        "id": "o1Ouq_spwtda"
      }
    },
    {
      "cell_type": "code",
      "source": [
        "print('oi')\n",
        "print('oi')\n",
        "print('oi')\n",
        "print('oi')\n",
        "print('oi')"
      ],
      "metadata": {
        "colab": {
          "base_uri": "https://localhost:8080/"
        },
        "id": "Yz8zikduyBSa",
        "outputId": "6090bdb3-c19f-4f2e-9c04-a29a370b54cc"
      },
      "execution_count": null,
      "outputs": [
        {
          "output_type": "stream",
          "name": "stdout",
          "text": [
            "oi\n",
            "oi\n",
            "oi\n",
            "oi\n",
            "oi\n"
          ]
        }
      ]
    },
    {
      "cell_type": "code",
      "source": [
        "for c in range(1,6):\n",
        "  print('oi')\n",
        "print('fim')"
      ],
      "metadata": {
        "colab": {
          "base_uri": "https://localhost:8080/"
        },
        "id": "VvJvWEImyFN8",
        "outputId": "4ab8d31b-1d41-48f0-c845-0e81bc700c93"
      },
      "execution_count": null,
      "outputs": [
        {
          "output_type": "stream",
          "name": "stdout",
          "text": [
            "oi\n",
            "oi\n",
            "oi\n",
            "oi\n",
            "oi\n",
            "fim\n"
          ]
        }
      ]
    },
    {
      "cell_type": "code",
      "source": [
        "for c in range(6, 0, -1):  #conta no sentido contrário\n",
        "    print(c)\n",
        "print('fim')"
      ],
      "metadata": {
        "colab": {
          "base_uri": "https://localhost:8080/"
        },
        "id": "m9KLzBadyWeJ",
        "outputId": "2a7b6415-eae1-4a07-8172-cf63039d8c71"
      },
      "execution_count": null,
      "outputs": [
        {
          "output_type": "stream",
          "name": "stdout",
          "text": [
            "6\n",
            "5\n",
            "4\n",
            "3\n",
            "2\n",
            "1\n",
            "fim\n"
          ]
        }
      ]
    },
    {
      "cell_type": "code",
      "source": [
        "i = int(input('Início: '))\n",
        "f = int(input('fim: '))\n",
        "p = int(input('passo: '))\n",
        "for c in range ( i, f+1, p):  # do inicio, de 3 em 3 ate o fim.\n",
        "  print(c)\n",
        "print('fim!')"
      ],
      "metadata": {
        "colab": {
          "base_uri": "https://localhost:8080/"
        },
        "id": "6ceczVUbyloZ",
        "outputId": "f6e016a9-3cb8-48c1-f81a-94d8f0ade246"
      },
      "execution_count": null,
      "outputs": [
        {
          "output_type": "stream",
          "name": "stdout",
          "text": [
            "Início: 2\n",
            "fim: 12\n",
            "passo: 3\n",
            "2\n",
            "5\n",
            "8\n",
            "11\n",
            "fim!\n"
          ]
        }
      ]
    },
    {
      "cell_type": "code",
      "source": [],
      "metadata": {
        "id": "WS68G_GuzfyB"
      },
      "execution_count": null,
      "outputs": []
    },
    {
      "cell_type": "markdown",
      "source": [
        "**Exercícios**"
      ],
      "metadata": {
        "id": "tgskNZox0NQ6"
      }
    },
    {
      "cell_type": "markdown",
      "source": [
        "Faça um programa que mostre na tela uma contagem regressiva para o estouro de fogos de artifício, indo de 10 até 0, com uma pausa de 1 segundo entre eles."
      ],
      "metadata": {
        "id": "PEll8JU20PqF"
      }
    },
    {
      "cell_type": "code",
      "source": [
        "from time import sleep\n",
        "for cont in range(10,-1,-1):\n",
        "  print(cont)\n",
        "  sleep(0.5)\n",
        "print('Bum! Bum! Poooww!')"
      ],
      "metadata": {
        "colab": {
          "base_uri": "https://localhost:8080/"
        },
        "id": "jS0pOUAp0bGo",
        "outputId": "44ec0322-d277-4eec-ba18-7c280cbc1eab"
      },
      "execution_count": null,
      "outputs": [
        {
          "output_type": "stream",
          "name": "stdout",
          "text": [
            "10\n",
            "9\n",
            "8\n",
            "7\n",
            "6\n",
            "5\n",
            "4\n",
            "3\n",
            "2\n",
            "1\n",
            "0\n",
            "Bum! Bum! Poooww!\n"
          ]
        }
      ]
    },
    {
      "cell_type": "markdown",
      "source": [
        "Crie um programa que mostre na tela todo os números pares que estão no intervalo entre 1 e 50\n"
      ],
      "metadata": {
        "id": "MfOnz64R0iRe"
      }
    },
    {
      "cell_type": "code",
      "source": [
        "for i in range (1,51):\n",
        "\n",
        "  if i %2==0:\n",
        "   print(i)"
      ],
      "metadata": {
        "colab": {
          "base_uri": "https://localhost:8080/"
        },
        "id": "wBAo0JD10p6y",
        "outputId": "9410dac4-377c-47de-82dd-f8fb0c3f1da8"
      },
      "execution_count": null,
      "outputs": [
        {
          "output_type": "stream",
          "name": "stdout",
          "text": [
            "2\n",
            "4\n",
            "6\n",
            "8\n",
            "10\n",
            "12\n",
            "14\n",
            "16\n",
            "18\n",
            "20\n",
            "22\n",
            "24\n",
            "26\n",
            "28\n",
            "30\n",
            "32\n",
            "34\n",
            "36\n",
            "38\n",
            "40\n",
            "42\n",
            "44\n",
            "46\n",
            "48\n",
            "50\n"
          ]
        }
      ]
    },
    {
      "cell_type": "code",
      "source": [],
      "metadata": {
        "id": "JyPEgwmZ0qA2"
      },
      "execution_count": null,
      "outputs": []
    },
    {
      "cell_type": "markdown",
      "source": [
        "Faça um programa que calcule a soma entre todos os números ímpares que são múltiplos de três e que se encontram no intervalo de 1 até 500."
      ],
      "metadata": {
        "id": "aAReBDEP0qe3"
      }
    },
    {
      "cell_type": "code",
      "source": [
        "soma = 0\n",
        "cont = 0\n",
        "for i in range (1,501,2):\n",
        "  if i % 3==0:\n",
        "    soma = soma + i\n",
        "    cont = cont +1\n",
        "print(\" A soma de todos os valores solicitados é {}\". format(soma))"
      ],
      "metadata": {
        "colab": {
          "base_uri": "https://localhost:8080/"
        },
        "id": "bQczj4ki02JJ",
        "outputId": "09dc58ef-6c82-49a8-b336-7e400ba3447d"
      },
      "execution_count": null,
      "outputs": [
        {
          "output_type": "stream",
          "name": "stdout",
          "text": [
            " A soma de todos os valores solicitados é 20667\n"
          ]
        }
      ]
    },
    {
      "cell_type": "markdown",
      "source": [
        "Desenvolva um programa que leia seis números inteiros e mostre a soma apenas daqueles que forem pares. Se o valor digitado for ímpar, desconsidere-o."
      ],
      "metadata": {
        "id": "wgyjg_1t02hA"
      }
    },
    {
      "cell_type": "code",
      "source": [],
      "metadata": {
        "id": "ObLO2FEp1UOw"
      },
      "execution_count": null,
      "outputs": []
    },
    {
      "cell_type": "markdown",
      "source": [
        "Desenvolva um programa que leia o prmeiro termo e a razão de uma PA. No final, mostre os 10 priimeiros termos dessa progressão."
      ],
      "metadata": {
        "id": "WPDB5htX1UdR"
      }
    },
    {
      "cell_type": "code",
      "source": [],
      "metadata": {
        "id": "y2QWeIE_1ewX"
      },
      "execution_count": null,
      "outputs": []
    },
    {
      "cell_type": "markdown",
      "source": [
        "Faça um programa que leia um número inteiro e diga se ele é ou não um número primo.\n"
      ],
      "metadata": {
        "id": "_bL_-nRJ1la7"
      }
    },
    {
      "cell_type": "code",
      "source": [
        "numero = int(input('digite um número'))\n",
        "\n",
        "if numero %2 != 0 and numero % 3!= 0:\n",
        "  print('O número digitado é primo.')\n",
        "else:\n",
        "  print( 'O número digitado não é primo.')\n"
      ],
      "metadata": {
        "colab": {
          "base_uri": "https://localhost:8080/"
        },
        "id": "DjrMogeK1r9x",
        "outputId": "78b4ee23-6623-45ab-bb07-58a22e436ee0"
      },
      "execution_count": null,
      "outputs": [
        {
          "output_type": "stream",
          "name": "stdout",
          "text": [
            "digite um número27\n",
            "O número digitado não é primo.\n"
          ]
        }
      ]
    },
    {
      "cell_type": "markdown",
      "source": [
        "Faça um programa que leia uma frase qualquer e diga se ela é um palíndromo, desconsiderando os espaços."
      ],
      "metadata": {
        "id": "Ub2HYNQG1wnl"
      }
    },
    {
      "cell_type": "code",
      "source": [],
      "metadata": {
        "id": "CPtzjYpS15hi"
      },
      "execution_count": null,
      "outputs": []
    },
    {
      "cell_type": "markdown",
      "source": [
        "Crie um programa que leia o ano de nascimento de sete pessoas. NO final, mostre quantas pessoas ainda não atingiram a maior idade e quantas já são maiores."
      ],
      "metadata": {
        "id": "p_roBMzR2IaZ"
      }
    },
    {
      "cell_type": "code",
      "source": [
        "idade1 = int(input('Qual o ano de nascimento de A? '))\n",
        "idade2 = int(input('Qual o ano de nascimento de B? '))\n",
        "idade3 = int(input('Qual o ano de nascimento de C? '))\n",
        "idade4 = int(input('Qual o ano de nascimento de D? '))\n",
        "idade5 = int(input('Qual o ano de nascimento de E? '))\n",
        "idade6 = int(input('Qual o ano de nascimento de F? '))\n",
        "idade7 = int(input('Qual o ano de nascimento de G? '))\n",
        "\n",
        "if idade1 <= 2005:\n",
        "  print('A é maior idade.')\n",
        "else:\n",
        "  print('A não atingiu a maior idade.')\n",
        "\n",
        "if idade2 <= 2005:\n",
        "  print('B é maior idade.')\n",
        "else:\n",
        "  print('B não atingiu a maior idade.')\n",
        "\n",
        "if idade3 <= 2005:\n",
        "  print('C é maior idade.')\n",
        "else:\n",
        "  print('C não atingiu a maior idade.')\n",
        "\n",
        "\n",
        "if idade4 <= 2005:\n",
        "  print('D é maior idade.')\n",
        "else:\n",
        "  print('D não atingiu a maior idade.')\n",
        "\n",
        "if idade5 <= 2005:\n",
        "  print('E é maior idade.')\n",
        "else:\n",
        "  print('E não atingiu a maior idade.')\n",
        "\n",
        "\n",
        "if idade6 <= 2005:\n",
        "  print('F é maior idade.')\n",
        "else:\n",
        "  print('F não atingiu a maior idade.')\n",
        "\n",
        "if idade7 <= 2005:\n",
        "  print('G é maior idade.')\n",
        "else:\n",
        "  print('G não atingiu a maior idade.')\n",
        "\n"
      ],
      "metadata": {
        "id": "Rx96v3lA2cvb"
      },
      "execution_count": null,
      "outputs": []
    },
    {
      "cell_type": "code",
      "source": [
        "list[idade1, idade2, idade3, idade4, idade5, idade6, idade7]\n"
      ],
      "metadata": {
        "colab": {
          "base_uri": "https://localhost:8080/"
        },
        "id": "lYuKN9fv7oqz",
        "outputId": "c3a18316-408f-4d35-c40a-bd3dc3163363"
      },
      "execution_count": null,
      "outputs": [
        {
          "output_type": "execute_result",
          "data": {
            "text/plain": [
              "list[2000, 2016, 1986, 2002, 1998, 2008, 2003]"
            ]
          },
          "metadata": {},
          "execution_count": 26
        }
      ]
    },
    {
      "cell_type": "markdown",
      "source": [
        "Faça um programa que leia  o peso de cinco pessoas. No final, mostre qual foi o maior e o menor peso lidos."
      ],
      "metadata": {
        "id": "5Fg7SFnE2f4g"
      }
    },
    {
      "cell_type": "code",
      "source": [],
      "metadata": {
        "id": "7AUVvxqE2oUZ"
      },
      "execution_count": null,
      "outputs": []
    },
    {
      "cell_type": "markdown",
      "source": [
        "Desenvolva um programa que leia o nome, idade e sexo de 4 pessoas. No final do programa, mostre:\n",
        "1- A média de idade do grupo\n",
        "2- Qual é o nome do homem mais velho\n",
        "3- Quantas mulheres têm menos de 20 anos."
      ],
      "metadata": {
        "id": "pNF4n_az2o4B"
      }
    },
    {
      "cell_type": "code",
      "source": [
        "25\n",
        "nome1 = str(input('Digite o nome da primeira pessoa: '))\n",
        "idade1 = int(input('Digite a idade da primeira pessoa: '))\n",
        "sexo1 = str(input('Digite o sexo da primeira pessoa (M/F): '))\n",
        "nome2 = str(input('Digite o nome da segunda pessoa: '))\n",
        "idade2 = int(input('Digite a idade da segunda pessoa: '))\n",
        "sexo2 = str(input('Digite o sexo da segunda pessoa (M/F): '))\n",
        "nome3 = str(input('Digite o nome da terceira pessoa: '))\n",
        "idade3 = int(input('Digite a idade da terceira pessoa: '))\n",
        "sexo3 = str(input('Digite o sexo da terceira pessoa (M/F): '))\n",
        "nome4 = str(input('Digite o nome da quarta pessoa: '))\n",
        "idade4 = int(input('Digite a idade da quarta pessoa: '))\n",
        "sexo4 = str(input('Digite o sexo da quarta pessoa (M/F): '))\n",
        "\n",
        "media = (idade1 + idade2 + idade3 + idade4)/4\n",
        "print('A média do grupo é {}'.format(media))\n",
        "\n",
        "if idade1 > idade2 and idade1 > idade3 and idade1 > idade4:\n",
        "  print('{} é o mais velho d o grupo!!'.format(nome1))\n",
        "\n",
        "if idade2 > idade1 and idade2 > idade3 and idade2 > idade4:\n",
        "  print('{} é o mais velho d o grupo!!'.format(nome2))\n",
        "\n",
        "if idade3 > idade1 and idade3 > idade2 and idade3 > idade4:\n",
        "  print('{} é o mais velho d o grupo!!'.format(nome3))\n",
        "\n",
        "if idade4 > idade1 and idade4 > idade3 and idade4 > idade2:\n",
        "  print('{} é o mais velho d o grupo!!'.format(nome4))\n",
        "\n",
        "\n",
        "\n",
        "idade = [idade1, idade2, idade3, idade4]\n",
        "idade\n",
        "\n",
        "sexo = [sexo1, sexo2 , sexo3, sexo4]\n",
        "\n",
        "\n",
        "\n",
        "print(' {} mulheres têm diades menores que 20' .format(idade_menor))\n",
        "\n",
        "\n",
        "\n",
        "\n",
        "\n"
      ],
      "metadata": {
        "id": "CwCbdeImUm41"
      },
      "execution_count": null,
      "outputs": []
    },
    {
      "cell_type": "code",
      "source": [
        "idade = [idade1, idade2, idade3, idade4]\n",
        "idade\n",
        "\n"
      ],
      "metadata": {
        "id": "R70zfxHPM2QY"
      },
      "execution_count": null,
      "outputs": []
    },
    {
      "cell_type": "code",
      "source": [
        "# Inicializa as variáveis\n",
        "soma_idade = 0\n",
        "homem_mais_velho = ''\n",
        "idade_homem_mais_velho = 0\n",
        "mulheres_menos_20 = 0\n",
        "\n",
        "# Loop para ler os dados das 4 pessoas\n",
        "for i in range(1, 5):\n",
        "    print(f'----- {i}ª PESSOA -----')\n",
        "    nome = input('Nome: ')\n",
        "    idade = int(input('Idade: '))\n",
        "    sexo = input('Sexo (M/F): ')\n",
        "\n",
        "    # Calcula a média de idade\n",
        "    soma_idade += idade\n",
        "\n",
        "    # Verifica se é o homem mais velho\n",
        "    if sexo.upper() == 'M' and idade > idade_homem_mais_velho:\n",
        "        homem_mais_velho = nome\n",
        "        idade_homem_mais_velho = idade\n",
        "\n",
        "    # Conta as mulheres com menos de 20 anos\n",
        "    if sexo.upper() == 'F' and idade < 20:\n",
        "        mulheres_menos_20 += 1\n",
        "\n",
        "# Calcula a média de idade\n",
        "media_idade = soma_idade / 4\n",
        "\n",
        "# Imprime os resultados\n",
        "print(f'\\nA média de idade do grupo é: {media_idade:.1f} anos')\n",
        "print(f'O nome do homem mais velho é: {homem_mais_velho}')\n",
        "print(f'{mulheres_menos_20} mulher(es) tem menos de 20 anos')\n"
      ],
      "metadata": {
        "colab": {
          "base_uri": "https://localhost:8080/"
        },
        "id": "2sm3o1pjIZq3",
        "outputId": "44459191-bed1-479c-cebf-da8e623d03dd"
      },
      "execution_count": 7,
      "outputs": [
        {
          "output_type": "stream",
          "name": "stdout",
          "text": [
            "----- 1ª PESSOA -----\n",
            "Nome: maria\n",
            "Idade: 25\n",
            "Sexo (M/F): F\n",
            "----- 2ª PESSOA -----\n",
            "Nome: ana[\n",
            "Idade: 14\n",
            "Sexo (M/F): F\n",
            "----- 3ª PESSOA -----\n",
            "Nome: jose\n",
            "Idade: 56\n",
            "Sexo (M/F): M\n",
            "----- 4ª PESSOA -----\n",
            "Nome: pedro\n",
            "Idade: 36\n",
            "Sexo (M/F): M\n",
            "\n",
            "A média de idade do grupo é: 32.8 anos\n",
            "O nome do homem mais velho é: jose\n",
            "1 mulher(es) tem menos de 20 anos\n"
          ]
        }
      ]
    },
    {
      "cell_type": "code",
      "source": [
        "\n",
        "\n",
        "\n",
        "\n",
        "\n"
      ],
      "metadata": {
        "id": "kGRMl2SERhyx"
      },
      "execution_count": null,
      "outputs": []
    },
    {
      "cell_type": "markdown",
      "source": [
        "Faça uma tabuada utilizando  o laço for"
      ],
      "metadata": {
        "id": "8v3XKsyrSLIT"
      }
    },
    {
      "cell_type": "code",
      "source": [
        "num = int(input(\"Digite um número para ver a tabuada: \"))\n",
        "for x in range(1,11):\n",
        "  print('{} x {:2} = {}'.format(num, x, num*x))"
      ],
      "metadata": {
        "colab": {
          "base_uri": "https://localhost:8080/"
        },
        "id": "pZJznz4ASHgZ",
        "outputId": "eb47f820-8a31-4cb7-a9fa-7882a3f73686"
      },
      "execution_count": 21,
      "outputs": [
        {
          "output_type": "stream",
          "name": "stdout",
          "text": [
            "Digite um número para ver a tabuada: 5\n",
            "5 x  1 = 5\n",
            "5 x  2 = 10\n",
            "5 x  3 = 15\n",
            "5 x  4 = 20\n",
            "5 x  5 = 25\n",
            "5 x  6 = 30\n",
            "5 x  7 = 35\n",
            "5 x  8 = 40\n",
            "5 x  9 = 45\n",
            "5 x 10 = 50\n"
          ]
        }
      ]
    }
  ]
}