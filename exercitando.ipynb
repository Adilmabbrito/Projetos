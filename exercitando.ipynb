{
  "nbformat": 4,
  "nbformat_minor": 0,
  "metadata": {
    "colab": {
      "provenance": [],
      "authorship_tag": "ABX9TyPcYoRIFPX28GF/5zf+VqwR",
      "include_colab_link": true
    },
    "kernelspec": {
      "name": "python3",
      "display_name": "Python 3"
    },
    "language_info": {
      "name": "python"
    }
  },
  "cells": [
    {
      "cell_type": "markdown",
      "metadata": {
        "id": "view-in-github",
        "colab_type": "text"
      },
      "source": [
        "<a href=\"https://colab.research.google.com/github/Adilmabbrito/Projetos/blob/main/exercitando.ipynb\" target=\"_parent\"><img src=\"https://colab.research.google.com/assets/colab-badge.svg\" alt=\"Open In Colab\"/></a>"
      ]
    },
    {
      "cell_type": "code",
      "execution_count": null,
      "metadata": {
        "id": "1hrsPdWppDCe"
      },
      "outputs": [],
      "source": []
    },
    {
      "cell_type": "markdown",
      "source": [
        "Classe Bola: Crie uma classe que modele uma bola:\n",
        "\n",
        "Atributos: Cor, circunferência, material\n",
        "Métodos: trocaCor e mostraCor"
      ],
      "metadata": {
        "id": "5i6TzBGxtBNB"
      }
    },
    {
      "cell_type": "code",
      "source": [
        "class Bola:\n",
        "  def __init__(self, cor, circunferencia, material):\n",
        "    self.cor = cor\n",
        "    self.circunferencia = circunferencia\n",
        "    self.material = material\n",
        "\n",
        "\n",
        "    def trocarCor(self, nova_cor):\n",
        "      self.cor = nova_cor\n",
        "\n",
        "\n",
        "\n",
        "\n",
        "    def mostraCor(self):\n",
        "\n",
        "      return self.cor\n",
        "\n",
        "\n",
        "\n",
        "\n",
        "minha_bola = Bola(cor = 'vermelha',circunferencia=  25, material = 'borracha')\n",
        "print(\"Cor da bola: \", minha_bola.mostraCor())\n",
        "\n"
      ],
      "metadata": {
        "id": "a1u3IUnFtDj4"
      },
      "execution_count": null,
      "outputs": []
    },
    {
      "cell_type": "code",
      "source": [
        "class Bola:\n",
        "    def __init__(self, cor, circunferencia, material):\n",
        "        self.cor = cor\n",
        "        self.circunferencia = circunferencia\n",
        "        self.material = material\n",
        "\n",
        "    def trocaCor(self, nova_cor):\n",
        "        self.cor = nova_cor\n",
        "\n",
        "    def mostraCor(self):\n",
        "        return self.cor\n",
        "\n",
        "# Exemplo de uso da classe Bola\n",
        "minha_bola = Bola(cor=\"vermelha\", circunferencia=25, material=\"borracha\")\n",
        "print(\"Cor da bola:\", minha_bola.mostraCor())  # Saída: Cor da bola: vermelha\n",
        "\n",
        "minha_bola.trocaCor(\"azul\")\n",
        "print(\"Nova cor da bola:\", minha_bola.mostraCor())  # Saída: Nova cor da bola: azul\n"
      ],
      "metadata": {
        "colab": {
          "base_uri": "https://localhost:8080/"
        },
        "id": "iG-Eo6xbvtBn",
        "outputId": "ef2dd578-e69c-487d-ec5e-0b54b110f5e3"
      },
      "execution_count": 11,
      "outputs": [
        {
          "output_type": "stream",
          "name": "stdout",
          "text": [
            "Cor da bola: vermelha\n",
            "Nova cor da bola: azul\n"
          ]
        }
      ]
    },
    {
      "cell_type": "markdown",
      "source": [
        "Classe Quadrado: Crie uma classe que modele um quadrado:\n",
        "\n",
        "Atributos: Tamanho do lado\n",
        "Métodos: Mudar valor do Lado, Retornar valor do Lado e calcular Área;"
      ],
      "metadata": {
        "id": "cn7x_y7gv0Vg"
      }
    },
    {
      "cell_type": "code",
      "source": [
        "class Quadrado:\n",
        "  def __init__(self, tamanhoDoLado):\n",
        "    self.tamanhoDoLado = tamanhoDoLado\n",
        "\n",
        "\n",
        "  def mudarValorDoLado(self, novo_tamanho):\n",
        "    self.tamanhoDoLado = novo_tamanho\n",
        "\n",
        "  def retornarValorDoLado(self):\n",
        "    return self.tamanhoDoLado\n",
        "\n",
        "  def calcularArea (self):\n",
        "    return self.tamanhoDoLado**2\n",
        "\n",
        "\n",
        "\n",
        "#exemplo de uso:\n",
        "\n",
        "quadrado1 = Quadrado(tamanhoDoLado = 16)\n",
        "print(\"Tamanho da área: \",quadrado1.retornarValorDoLado() )\n",
        "print(\"Área do quadrado:\", quadrado1.calcularArea())\n",
        "\n",
        ""
      ],
      "metadata": {
        "colab": {
          "base_uri": "https://localhost:8080/"
        },
        "id": "_KxkYofov3-f",
        "outputId": "fd29759a-a5af-40cc-9a7c-fc613b76be10"
      },
      "execution_count": 19,
      "outputs": [
        {
          "output_type": "stream",
          "name": "stdout",
          "text": [
            "Tamanho da área:  16\n",
            "Área do quadrado: 256\n"
          ]
        }
      ]
    }
  ]
}