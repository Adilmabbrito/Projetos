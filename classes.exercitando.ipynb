{
  "nbformat": 4,
  "nbformat_minor": 0,
  "metadata": {
    "colab": {
      "provenance": [],
      "authorship_tag": "ABX9TyNBMpDLtyiVisv8aQ8sf+NP",
      "include_colab_link": true
    },
    "kernelspec": {
      "name": "python3",
      "display_name": "Python 3"
    },
    "language_info": {
      "name": "python"
    }
  },
  "cells": [
    {
      "cell_type": "markdown",
      "metadata": {
        "id": "view-in-github",
        "colab_type": "text"
      },
      "source": [
        "<a href=\"https://colab.research.google.com/github/Adilmabbrito/Projetos/blob/main/classes.exercitando.ipynb\" target=\"_parent\"><img src=\"https://colab.research.google.com/assets/colab-badge.svg\" alt=\"Open In Colab\"/></a>"
      ]
    },
    {
      "cell_type": "code",
      "execution_count": null,
      "metadata": {
        "id": "1hrsPdWppDCe"
      },
      "outputs": [],
      "source": []
    },
    {
      "cell_type": "markdown",
      "source": [
        "Classe Bola: Crie uma classe que modele uma bola:\n",
        "\n",
        "Atributos: Cor, circunferência, material\n",
        "Métodos: trocaCor e mostraCor"
      ],
      "metadata": {
        "id": "5i6TzBGxtBNB"
      }
    },
    {
      "cell_type": "code",
      "source": [
        "class Bola:\n",
        "  def __init__(self, cor, circunferencia, material):\n",
        "    self.cor = cor\n",
        "    self.circunferencia = circunferencia\n",
        "    self.material = material\n",
        "\n",
        "\n",
        "    def trocarCor(self, nova_cor):\n",
        "      self.cor = nova_cor\n",
        "\n",
        "\n",
        "\n",
        "\n",
        "    def mostraCor(self):\n",
        "\n",
        "      return self.cor\n",
        "\n",
        "\n",
        "\n",
        "\n",
        "minha_bola = Bola(cor = 'vermelha',circunferencia=  25, material = 'borracha')\n",
        "print(\"Cor da bola: \", minha_bola.mostraCor())\n",
        "\n"
      ],
      "metadata": {
        "id": "a1u3IUnFtDj4"
      },
      "execution_count": null,
      "outputs": []
    },
    {
      "cell_type": "code",
      "source": [
        "class Bola:\n",
        "    def __init__(self, cor, circunferencia, material):\n",
        "        self.cor = cor\n",
        "        self.circunferencia = circunferencia\n",
        "        self.material = material\n",
        "\n",
        "    def trocaCor(self, nova_cor):\n",
        "        self.cor = nova_cor\n",
        "\n",
        "    def mostraCor(self):\n",
        "        return self.cor\n",
        "\n",
        "# Exemplo de uso da classe Bola\n",
        "minha_bola = Bola(cor=\"vermelha\", circunferencia=25, material=\"borracha\")\n",
        "print(\"Cor da bola:\", minha_bola.mostraCor())  # Saída: Cor da bola: vermelha\n",
        "\n",
        "minha_bola.trocaCor(\"azul\")\n",
        "print(\"Nova cor da bola:\", minha_bola.mostraCor())  # Saída: Nova cor da bola: azul\n"
      ],
      "metadata": {
        "colab": {
          "base_uri": "https://localhost:8080/"
        },
        "id": "iG-Eo6xbvtBn",
        "outputId": "ef2dd578-e69c-487d-ec5e-0b54b110f5e3"
      },
      "execution_count": null,
      "outputs": [
        {
          "output_type": "stream",
          "name": "stdout",
          "text": [
            "Cor da bola: vermelha\n",
            "Nova cor da bola: azul\n"
          ]
        }
      ]
    },
    {
      "cell_type": "markdown",
      "source": [
        "Classe Quadrado: Crie uma classe que modele um quadrado:\n",
        "\n",
        "Atributos: Tamanho do lado\n",
        "Métodos: Mudar valor do Lado, Retornar valor do Lado e calcular Área;"
      ],
      "metadata": {
        "id": "cn7x_y7gv0Vg"
      }
    },
    {
      "cell_type": "code",
      "source": [
        "class Quadrado:\n",
        "  def __init__(self, tamanhoDoLado):\n",
        "    self.tamanhoDoLado = tamanhoDoLado\n",
        "\n",
        "\n",
        "  def mudarValorDoLado(self, novo_tamanho):\n",
        "    self.tamanhoDoLado = novo_tamanho\n",
        "\n",
        "  def retornarValorDoLado(self):\n",
        "    return self.tamanhoDoLado\n",
        "\n",
        "  def calcularArea (self):\n",
        "    return self.tamanhoDoLado**2\n",
        "\n",
        "\n",
        "\n",
        "#exemplo de uso:\n",
        "\n",
        "quadrado1 = Quadrado(tamanhoDoLado = 16)\n",
        "print(\"Tamanho da área: \",quadrado1.retornarValorDoLado() )\n",
        "print(\"Área do quadrado:\", quadrado1.calcularArea())\n",
        "\n"
      ],
      "metadata": {
        "colab": {
          "base_uri": "https://localhost:8080/"
        },
        "id": "_KxkYofov3-f",
        "outputId": "fd29759a-a5af-40cc-9a7c-fc613b76be10"
      },
      "execution_count": null,
      "outputs": [
        {
          "output_type": "stream",
          "name": "stdout",
          "text": [
            "Tamanho da área:  16\n",
            "Área do quadrado: 256\n"
          ]
        }
      ]
    },
    {
      "cell_type": "markdown",
      "source": [
        "Classe Retangulo: Crie uma classe que modele um retangulo:\n",
        "\n",
        "Atributos: LadoA, LadoB (ou Comprimento e Largura, ou Base e Altura, a escolher)\n",
        "\n",
        "Métodos: Mudar valor dos lados, Retornar valor dos lados, calcular Área e calcular Perímetro;\n",
        "\n",
        "Crie um programa que utilize esta classe. Ele deve pedir ao usuário que informe as medidades de um local. Depois, deve criar um objeto com as medidas e calcular a quantidade de pisos e de rodapés necessárias para o local."
      ],
      "metadata": {
        "id": "HTgzSl5ILxe-"
      }
    },
    {
      "cell_type": "code",
      "source": [
        "class Retangulo:\n",
        "  def __init__(self, comprimento , largura):\n",
        "    self.comprimento = comprimento\n",
        "    self.largura = largura\n",
        "\n",
        "\n",
        "  def mudaValorComprimento(self, novo_valorComprimento):\n",
        "    self.comprimento = novo_valorComprimento\n",
        "\n",
        "  def mudaValorLargura(self, novo_valorLargura):\n",
        "    self.Largura = novo_valorLargura\n",
        "\n",
        "  def retornarComprimento(self):\n",
        "    return self.comprimento\n",
        "\n",
        "  def retornarLargura(self):\n",
        "    return self.largura\n",
        "\n",
        "  def calcularArea(self):\n",
        "    return self.comprimento*self.largura\n",
        "\n",
        "  def calcularPerimetro(self):\n",
        "    return 2*(self.comprimento + self.largura)\n",
        "\n",
        "\n",
        "\n",
        "retangulo1 = Retangulo(12, 8)\n",
        "print(retangulo1.comprimento)\n",
        "print(retangulo1.largura)\n",
        "print(\"Tamanho da área: \", retangulo1.calcularArea())\n",
        "print(\"Tamanho da área: \", retangulo1.calcularPerimetro())\n",
        "\n",
        "\n",
        "\n"
      ],
      "metadata": {
        "id": "2QNrN_DdMEeG",
        "colab": {
          "base_uri": "https://localhost:8080/"
        },
        "outputId": "a4ad2a05-17da-430c-93f1-c05b55699698"
      },
      "execution_count": null,
      "outputs": [
        {
          "output_type": "stream",
          "name": "stdout",
          "text": [
            "12\n",
            "8\n",
            "Tamanho da área:  96\n",
            "Tamanho da área:  40\n"
          ]
        }
      ]
    },
    {
      "cell_type": "markdown",
      "source": [
        "Classe Pessoa: Crie uma classe que modele uma pessoa:\n",
        "\n",
        "Atributos: nome, idade, peso e altura\n",
        "\n",
        "Métodos: Envelhercer, engordar, emagrecer, crescer. Obs: Por padrão, a cada ano que nossa pessoa envelhece, sendo a idade dela menor que 21 anos, ela deve crescer 0,5 cm.\n"
      ],
      "metadata": {
        "id": "6rAsgnCEQ7h_"
      }
    },
    {
      "cell_type": "code",
      "source": [
        "class Pessoa:\n",
        "  def __init__(self, nome, idade, peso, altura):\n",
        "    self.nome= nome\n",
        "    self.idade= idade\n",
        "    self.peso= peso\n",
        "    self.altura=altura\n",
        "\n",
        "  def envelhecer(self, anos):\n",
        "    self.idade += anos\n",
        "    if self.idade < 21:\n",
        "      self.crescer(0.5 *anos)\n",
        "\n",
        "\n",
        "  def engordar(self, kg):\n",
        "    self.peso +=kg\n",
        "\n",
        "\n",
        "  def emagrecer(self,kg):\n",
        "    self.peso -=kg\n",
        "\n",
        "\n",
        "  def crescer(self, cm):\n",
        "    self.altura +=cm\n",
        "\n",
        "  def imprimir_informacoes(self):\n",
        "    print(\"Nome: \", self.nome)\n",
        "    print(\"Idade: \", self.idade, \"anos\")\n",
        "    print(\"Peso: \", self.peso, \"kg\")\n",
        "    print(\"Altura: \", self.altura, \"cm\")\n",
        "\n",
        "\n",
        "def main():\n",
        "  nome= input(\"Informe o nome da pessoa: \")\n",
        "  idade = int(input(\"Informe a idade da pessoa: \"))\n",
        "  peso = float(input(\"Informe o peso da pessoa( em kg): \"))\n",
        "  altura = float(input(\"Informe a altura da pessoa (em cm)\"))\n",
        "\n",
        "  pessoa = Pessoa( nome, idade, peso, altura)\n",
        "\n",
        "  print(\"Informações inicias da pessoa: \")\n",
        "\n",
        "  pessoa.imprimir_informacoes()\n",
        "\n",
        "\n",
        "  anos_passados = int(input(\"Informe quantos anos se passaram: \"))\n",
        "  pessoa.envelhecer(anos_passados)\n",
        "\n",
        "  print(\"Informações atualizadas da pessoa: \")\n",
        "  pessoa.imprimir_informacoes()\n",
        "\n",
        "\n",
        "if __name__ ==\"__main__\":\n",
        "  main()\n",
        "\n",
        "\n"
      ],
      "metadata": {
        "colab": {
          "base_uri": "https://localhost:8080/"
        },
        "id": "75u_ZrPjRCxR",
        "outputId": "cbf8fc09-1e5c-47e5-9555-36998d94d503"
      },
      "execution_count": null,
      "outputs": [
        {
          "output_type": "stream",
          "name": "stdout",
          "text": [
            "Informe o nome da pessoa: joão\n",
            "Informe a idade da pessoa: 15\n",
            "Informe o peso da pessoa( em kg): 45\n",
            "Informe a altura da pessoa (em cm)1.50\n",
            "Informações inicias da pessoa: \n",
            "Nome:  joão\n",
            "Idade:  15 anos\n",
            "Peso:  45.0 kg\n",
            "Altura:  1.5 cm\n",
            "Informe quantos anos se passaram: 3\n",
            "Informações atualizadas da pessoa: \n",
            "Nome:  joão\n",
            "Idade:  18 anos\n",
            "Peso:  45.0 kg\n",
            "Altura:  3.0 cm\n"
          ]
        }
      ]
    },
    {
      "cell_type": "markdown",
      "source": [
        "Classe Conta Corrente: Crie uma classe para implementar uma conta corrente. A classe deve possuir os seguintes atributos: número da conta, nome do correntista e saldo. Os métodos são os seguintes: alterarNome, depósito e saque; No construtor, saldo é opcional, com valor default zero e os demais atributos são obrigatórios.\n",
        "\n"
      ],
      "metadata": {
        "id": "CLrKNYWrlDOl"
      }
    },
    {
      "cell_type": "code",
      "source": [
        "class ContaCorrente:\n",
        "  def __init__(self, conta, nome_correntista, saldo = 0):\n",
        "    self.conta = conta\n",
        "    self.nome_correntista = nome_correntista\n",
        "    self.saldo = saldo\n",
        "\n",
        "\n",
        "\n",
        "\n",
        "\n",
        "  def alterarNome(self, novo_nome):\n",
        "    self.nome_correntista = novo_nome\n",
        "\n",
        "  def depositar(self, novo_saldo):\n",
        "    if novo_saldo > 0:\n",
        "      self.saldo =+novo_saldo\n",
        "      print(\"Depósito de : \", novo_saldo, \"realizado com sucesso.\")\n",
        "    else:\n",
        "      print(\"Valor de depósito inválido!\")\n",
        "\n",
        "  def sacar(self, novo_saldo):\n",
        "    if novo_saldo > 0 and novo_saldo <=self.saldo:\n",
        "      self.saldo -=novo_saldo\n",
        "      print(\"Saque de\", novo_saldo, \"realizado com sucesso!\")\n",
        "\n",
        "    else:\n",
        "      print(\"Valor do saque inválido ou insuficiente!\")\n",
        "\n",
        "  def imprimir_informacoes(self):\n",
        "    print(\"Conta corrente: \", self.conta)\n",
        "    print(\"Nome do correntista: \", self.nome_correntista)\n",
        "    print(\"Digite o saldo: \", self.saldo)\n",
        "\n",
        "\n",
        "def main():\n",
        "  conta = input(\"Informe o número da conta: \")\n",
        "  nome_correntista = input(\"informe o nome do correntista: \")\n",
        "  conta = ContaCorrente( conta, nome_correntista, saldo =0)\n",
        "\n",
        "  conta.imprimir_informacoes()\n",
        "\n",
        "  valor_deposito = float(input(\"Informe o valor a ser depositado: \"))\n",
        "  conta.depositar(valor_deposito)\n",
        "\n",
        "  valor_saque= float(input(\"informe o valor do saque\"))\n",
        "  conta.sacar(valor_saque)\n",
        "\n",
        "  print(\"\\nInformações da conta após transações: \")\n",
        "  conta.imprimir_informacoes()\n",
        "\n",
        "\n",
        "if __name__ == \"__main__\":\n",
        "    main()\n",
        "\n",
        "\n"
      ],
      "metadata": {
        "colab": {
          "base_uri": "https://localhost:8080/"
        },
        "id": "NeK0N9GglHqL",
        "outputId": "7a596387-7092-4200-d2c7-a5a3ef86454c"
      },
      "execution_count": null,
      "outputs": [
        {
          "output_type": "stream",
          "name": "stdout",
          "text": [
            "Informe o número da conta: 1514.56\n",
            "informe o nome do correntista: fvsgsgsfr\n",
            "Conta corrente:  1514.56\n",
            "Nome do correntista:  fvsgsgsfr\n",
            "Digite o saldo:  0\n",
            "Informe o valor a ser depositado: 500\n",
            "Depósito de :  500.0 realizado com sucesso.\n",
            "informe o valor do saque100\n",
            "Saque de 100.0 realizado com sucesso!\n",
            "\n",
            "Informações da conta após transações: \n",
            "Conta corrente:  1514.56\n",
            "Nome do correntista:  fvsgsgsfr\n",
            "Digite o saldo:  400.0\n"
          ]
        }
      ]
    },
    {
      "cell_type": "code",
      "source": [],
      "metadata": {
        "id": "KFBhJ6vgbFlU"
      },
      "execution_count": null,
      "outputs": []
    },
    {
      "cell_type": "markdown",
      "source": [
        "Classe TV: Faça um programa que simule um televisor criando-o como um objeto. O usuário deve ser capaz de informar o número do canal e aumentar ou diminuir o volume. Certifique-se de que o número do canal e o nível do volume permanecem dentro de faixas válidas."
      ],
      "metadata": {
        "id": "WBGceT_Wb1oJ"
      }
    },
    {
      "cell_type": "code",
      "source": [
        "class Tv:\n",
        "  def __init__(self):\n",
        "    self.canal=1\n",
        "    self.volume=50\n",
        "\n",
        "\n",
        "  def mudar_canal(self, novo_canal):\n",
        "    if 1 <= novo-canal <=100:\n",
        "      self.canal = novo_canal\n"
      ],
      "metadata": {
        "id": "yXCzz7Bnb3Bn"
      },
      "execution_count": null,
      "outputs": []
    }
  ]
}